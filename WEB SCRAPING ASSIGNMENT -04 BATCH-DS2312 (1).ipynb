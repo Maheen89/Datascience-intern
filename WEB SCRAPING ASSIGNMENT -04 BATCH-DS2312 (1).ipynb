{
 "cells": [
  {
   "cell_type": "code",
   "execution_count": 1,
   "id": "47e2f87e",
   "metadata": {},
   "outputs": [
    {
     "name": "stdout",
     "output_type": "stream",
     "text": [
      "Requirement already satisfied: selenium in c:\\users\\sam\\anaconda3\\lib\\site-packages (4.17.2)\n",
      "Requirement already satisfied: typing_extensions>=4.9.0 in c:\\users\\sam\\anaconda3\\lib\\site-packages (from selenium) (4.9.0)\n",
      "Requirement already satisfied: urllib3[socks]<3,>=1.26 in c:\\users\\sam\\anaconda3\\lib\\site-packages (from selenium) (1.26.14)\n",
      "Requirement already satisfied: certifi>=2021.10.8 in c:\\users\\sam\\anaconda3\\lib\\site-packages (from selenium) (2022.12.7)\n",
      "Requirement already satisfied: trio~=0.17 in c:\\users\\sam\\anaconda3\\lib\\site-packages (from selenium) (0.24.0)\n",
      "Requirement already satisfied: trio-websocket~=0.9 in c:\\users\\sam\\anaconda3\\lib\\site-packages (from selenium) (0.11.1)\n",
      "Requirement already satisfied: sortedcontainers in c:\\users\\sam\\anaconda3\\lib\\site-packages (from trio~=0.17->selenium) (2.4.0)\n",
      "Requirement already satisfied: attrs>=20.1.0 in c:\\users\\sam\\anaconda3\\lib\\site-packages (from trio~=0.17->selenium) (22.1.0)\n",
      "Requirement already satisfied: idna in c:\\users\\sam\\anaconda3\\lib\\site-packages (from trio~=0.17->selenium) (3.4)\n",
      "Requirement already satisfied: cffi>=1.14 in c:\\users\\sam\\anaconda3\\lib\\site-packages (from trio~=0.17->selenium) (1.15.1)\n",
      "Requirement already satisfied: sniffio>=1.3.0 in c:\\users\\sam\\anaconda3\\lib\\site-packages (from trio~=0.17->selenium) (1.3.0)\n",
      "Requirement already satisfied: outcome in c:\\users\\sam\\anaconda3\\lib\\site-packages (from trio~=0.17->selenium) (1.3.0.post0)\n",
      "Requirement already satisfied: exceptiongroup in c:\\users\\sam\\anaconda3\\lib\\site-packages (from trio~=0.17->selenium) (1.2.0)\n",
      "Requirement already satisfied: wsproto>=0.14 in c:\\users\\sam\\anaconda3\\lib\\site-packages (from trio-websocket~=0.9->selenium) (1.2.0)\n",
      "Requirement already satisfied: PySocks!=1.5.7,<2.0,>=1.5.6 in c:\\users\\sam\\anaconda3\\lib\\site-packages (from urllib3[socks]<3,>=1.26->selenium) (1.7.1)\n",
      "Requirement already satisfied: pycparser in c:\\users\\sam\\anaconda3\\lib\\site-packages (from cffi>=1.14->trio~=0.17->selenium) (2.21)\n",
      "Requirement already satisfied: h11<1,>=0.9.0 in c:\\users\\sam\\anaconda3\\lib\\site-packages (from wsproto>=0.14->trio-websocket~=0.9->selenium) (0.14.0)\n"
     ]
    }
   ],
   "source": [
    "!pip install selenium"
   ]
  },
  {
   "cell_type": "code",
   "execution_count": 2,
   "id": "be36cc1a",
   "metadata": {},
   "outputs": [],
   "source": [
    "import selenium\n",
    "import pandas as pd\n",
    "from selenium import webdriver\n",
    "import warnings\n",
    "warnings.filterwarnings(\"ignore\")\n",
    "from selenium.webdriver.common.by import By\n",
    "import time\n",
    "import requests"
   ]
  },
  {
   "cell_type": "code",
   "execution_count": 3,
   "id": "5a5cea1c",
   "metadata": {},
   "outputs": [],
   "source": [
    "driver = webdriver.Chrome()\n"
   ]
  },
  {
   "cell_type": "markdown",
   "id": "e9061c23",
   "metadata": {},
   "source": [
    "## Q1."
   ]
  },
  {
   "cell_type": "code",
   "execution_count": 4,
   "id": "e8ac7fa0",
   "metadata": {},
   "outputs": [],
   "source": [
    "driver.get(\"https://en.wikipedia.org/wiki/List_of_most-viewed_YouTube_videos\")"
   ]
  },
  {
   "cell_type": "code",
   "execution_count": 5,
   "id": "766c51e7",
   "metadata": {},
   "outputs": [],
   "source": [
    "name_tags=[]\n",
    "artist_tags=[]\n",
    "upload_tags=[]\n",
    "views_tags=[]"
   ]
  },
  {
   "cell_type": "code",
   "execution_count": 6,
   "id": "0601039c",
   "metadata": {},
   "outputs": [],
   "source": [
    "name_title=driver.find_elements(By.XPATH,'//table[@class=\"sortable wikitable sticky-header static-row-numbers sort-under col3center col4right jquery-tablesorter\"]/tbody//tr/td[1]')\n",
    "\n",
    "for i in name_title:\n",
    "    name=i.text\n",
    "    name_tags.append(name)"
   ]
  },
  {
   "cell_type": "code",
   "execution_count": 7,
   "id": "96215459",
   "metadata": {},
   "outputs": [
    {
     "name": "stdout",
     "output_type": "stream",
     "text": [
      "30\n"
     ]
    }
   ],
   "source": [
    "print(len(name_tags))"
   ]
  },
  {
   "cell_type": "code",
   "execution_count": 8,
   "id": "f230ab0a",
   "metadata": {},
   "outputs": [],
   "source": [
    "artist_title=driver.find_elements(By.XPATH,'//table[@class=\"sortable wikitable sticky-header static-row-numbers sort-under col3center col4right jquery-tablesorter\"]/tbody//tr/td[2]')\n",
    "\n",
    "for i in artist_title:\n",
    "    artist=i.text\n",
    "    artist_tags.append(artist)"
   ]
  },
  {
   "cell_type": "code",
   "execution_count": 9,
   "id": "287b0712",
   "metadata": {},
   "outputs": [
    {
     "name": "stdout",
     "output_type": "stream",
     "text": [
      "30\n"
     ]
    }
   ],
   "source": [
    "print(len(artist_tags))"
   ]
  },
  {
   "cell_type": "code",
   "execution_count": 10,
   "id": "f8ee6f07",
   "metadata": {},
   "outputs": [],
   "source": [
    "upload_title=driver.find_elements(By.XPATH,'//table[@class=\"sortable wikitable sticky-header static-row-numbers sort-under col3center col4right jquery-tablesorter\"]/tbody//tr/td[3]')\n",
    "\n",
    "for i in upload_title:\n",
    "    upload=i.text\n",
    "    upload_tags.append(upload)"
   ]
  },
  {
   "cell_type": "code",
   "execution_count": 11,
   "id": "7e15cda8",
   "metadata": {},
   "outputs": [
    {
     "name": "stdout",
     "output_type": "stream",
     "text": [
      "30\n"
     ]
    }
   ],
   "source": [
    "print(len(upload_tags))"
   ]
  },
  {
   "cell_type": "code",
   "execution_count": 12,
   "id": "4e175731",
   "metadata": {},
   "outputs": [],
   "source": [
    "views_title=driver.find_elements(By.XPATH,'//table[@class=\"sortable wikitable sticky-header static-row-numbers sort-under col3center col4right jquery-tablesorter\"]/tbody//tr/td[4]')\n",
    "\n",
    "for i in views_title:\n",
    "    views=i.text\n",
    "    views_tags.append(views)"
   ]
  },
  {
   "cell_type": "code",
   "execution_count": 13,
   "id": "deeee690",
   "metadata": {},
   "outputs": [
    {
     "name": "stdout",
     "output_type": "stream",
     "text": [
      "30\n"
     ]
    }
   ],
   "source": [
    "print(len(views_tags))"
   ]
  },
  {
   "cell_type": "code",
   "execution_count": 14,
   "id": "4f3c4b22",
   "metadata": {},
   "outputs": [
    {
     "name": "stdout",
     "output_type": "stream",
     "text": [
      "30 30 30 30\n"
     ]
    }
   ],
   "source": [
    "print(len(name_tags),len(artist_tags),len(upload_tags),len(views_tags))"
   ]
  },
  {
   "cell_type": "code",
   "execution_count": 15,
   "id": "036022cf",
   "metadata": {},
   "outputs": [],
   "source": [
    "df=pd.DataFrame({\"Name\":name_tags,\"Artist\":artist_tags,\"Views\":views_tags,\"Upload Date\":upload_tags})"
   ]
  },
  {
   "cell_type": "code",
   "execution_count": 16,
   "id": "fe4ee9b3",
   "metadata": {},
   "outputs": [
    {
     "data": {
      "text/html": [
       "<div>\n",
       "<style scoped>\n",
       "    .dataframe tbody tr th:only-of-type {\n",
       "        vertical-align: middle;\n",
       "    }\n",
       "\n",
       "    .dataframe tbody tr th {\n",
       "        vertical-align: top;\n",
       "    }\n",
       "\n",
       "    .dataframe thead th {\n",
       "        text-align: right;\n",
       "    }\n",
       "</style>\n",
       "<table border=\"1\" class=\"dataframe\">\n",
       "  <thead>\n",
       "    <tr style=\"text-align: right;\">\n",
       "      <th></th>\n",
       "      <th>Name</th>\n",
       "      <th>Artist</th>\n",
       "      <th>Views</th>\n",
       "      <th>Upload Date</th>\n",
       "    </tr>\n",
       "  </thead>\n",
       "  <tbody>\n",
       "    <tr>\n",
       "      <th>0</th>\n",
       "      <td>\"Baby Shark Dance\"[6]</td>\n",
       "      <td>Pinkfong Baby Shark - Kids' Songs &amp; Stories</td>\n",
       "      <td>June 17, 2016</td>\n",
       "      <td>14.09</td>\n",
       "    </tr>\n",
       "    <tr>\n",
       "      <th>1</th>\n",
       "      <td>\"Despacito\"[9]</td>\n",
       "      <td>Luis Fonsi</td>\n",
       "      <td>January 12, 2017</td>\n",
       "      <td>8.38</td>\n",
       "    </tr>\n",
       "    <tr>\n",
       "      <th>2</th>\n",
       "      <td>\"Johny Johny Yes Papa\"[17]</td>\n",
       "      <td>LooLoo Kids - Nursery Rhymes and Children's Songs</td>\n",
       "      <td>October 8, 2016</td>\n",
       "      <td>6.87</td>\n",
       "    </tr>\n",
       "    <tr>\n",
       "      <th>3</th>\n",
       "      <td>\"Bath Song\"[18]</td>\n",
       "      <td>Cocomelon - Nursery Rhymes</td>\n",
       "      <td>May 2, 2018</td>\n",
       "      <td>6.62</td>\n",
       "    </tr>\n",
       "    <tr>\n",
       "      <th>4</th>\n",
       "      <td>\"Shape of You\"[19]</td>\n",
       "      <td>Ed Sheeran</td>\n",
       "      <td>January 30, 2017</td>\n",
       "      <td>6.20</td>\n",
       "    </tr>\n",
       "    <tr>\n",
       "      <th>5</th>\n",
       "      <td>\"See You Again\"[22]</td>\n",
       "      <td>Wiz Khalifa</td>\n",
       "      <td>April 6, 2015</td>\n",
       "      <td>6.17</td>\n",
       "    </tr>\n",
       "    <tr>\n",
       "      <th>6</th>\n",
       "      <td>\"Wheels on the Bus\"[27]</td>\n",
       "      <td>Cocomelon - Nursery Rhymes</td>\n",
       "      <td>May 24, 2018</td>\n",
       "      <td>5.88</td>\n",
       "    </tr>\n",
       "    <tr>\n",
       "      <th>7</th>\n",
       "      <td>\"Phonics Song with Two Words\"[28]</td>\n",
       "      <td>ChuChu TV Nursery Rhymes &amp; Kids Songs</td>\n",
       "      <td>March 6, 2014</td>\n",
       "      <td>5.70</td>\n",
       "    </tr>\n",
       "    <tr>\n",
       "      <th>8</th>\n",
       "      <td>\"Uptown Funk\"[29]</td>\n",
       "      <td>Mark Ronson</td>\n",
       "      <td>November 19, 2014</td>\n",
       "      <td>5.15</td>\n",
       "    </tr>\n",
       "    <tr>\n",
       "      <th>9</th>\n",
       "      <td>\"Learning Colors – Colorful Eggs on a Farm\"[30]</td>\n",
       "      <td>Miroshka TV</td>\n",
       "      <td>February 27, 2018</td>\n",
       "      <td>5.07</td>\n",
       "    </tr>\n",
       "    <tr>\n",
       "      <th>10</th>\n",
       "      <td>\"Gangnam Style\"[31]</td>\n",
       "      <td>Psy</td>\n",
       "      <td>July 15, 2012</td>\n",
       "      <td>5.05</td>\n",
       "    </tr>\n",
       "    <tr>\n",
       "      <th>11</th>\n",
       "      <td>\"Masha and the Bear – Recipe for Disaster\"[36]</td>\n",
       "      <td>Get Movies</td>\n",
       "      <td>January 31, 2012</td>\n",
       "      <td>4.58</td>\n",
       "    </tr>\n",
       "    <tr>\n",
       "      <th>12</th>\n",
       "      <td>\"Dame Tu Cosita\"[37]</td>\n",
       "      <td>Ultra Records</td>\n",
       "      <td>April 5, 2018</td>\n",
       "      <td>4.55</td>\n",
       "    </tr>\n",
       "    <tr>\n",
       "      <th>13</th>\n",
       "      <td>\"Axel F\"[38]</td>\n",
       "      <td>Crazy Frog</td>\n",
       "      <td>June 16, 2009</td>\n",
       "      <td>4.34</td>\n",
       "    </tr>\n",
       "    <tr>\n",
       "      <th>14</th>\n",
       "      <td>\"Sugar\"[39]</td>\n",
       "      <td>Maroon 5</td>\n",
       "      <td>January 14, 2015</td>\n",
       "      <td>4.00</td>\n",
       "    </tr>\n",
       "    <tr>\n",
       "      <th>15</th>\n",
       "      <td>\"Counting Stars\"[40]</td>\n",
       "      <td>OneRepublic</td>\n",
       "      <td>May 31, 2013</td>\n",
       "      <td>3.97</td>\n",
       "    </tr>\n",
       "    <tr>\n",
       "      <th>16</th>\n",
       "      <td>\"Baa Baa Black Sheep\"[41]</td>\n",
       "      <td>Cocomelon - Nursery Rhymes</td>\n",
       "      <td>June 25, 2018</td>\n",
       "      <td>3.96</td>\n",
       "    </tr>\n",
       "    <tr>\n",
       "      <th>17</th>\n",
       "      <td>\"Roar\"[42]</td>\n",
       "      <td>Katy Perry</td>\n",
       "      <td>September 5, 2013</td>\n",
       "      <td>3.96</td>\n",
       "    </tr>\n",
       "    <tr>\n",
       "      <th>18</th>\n",
       "      <td>\"Lakdi Ki Kathi\"[43]</td>\n",
       "      <td>Jingle Toons</td>\n",
       "      <td>June 14, 2018</td>\n",
       "      <td>3.91</td>\n",
       "    </tr>\n",
       "    <tr>\n",
       "      <th>19</th>\n",
       "      <td>\"Waka Waka (This Time for Africa)\"[44]</td>\n",
       "      <td>Shakira</td>\n",
       "      <td>June 4, 2010</td>\n",
       "      <td>3.85</td>\n",
       "    </tr>\n",
       "    <tr>\n",
       "      <th>20</th>\n",
       "      <td>\"Sorry\"[45]</td>\n",
       "      <td>Justin Bieber</td>\n",
       "      <td>October 22, 2015</td>\n",
       "      <td>3.77</td>\n",
       "    </tr>\n",
       "    <tr>\n",
       "      <th>21</th>\n",
       "      <td>\"Thinking Out Loud\"[46]</td>\n",
       "      <td>Ed Sheeran</td>\n",
       "      <td>October 7, 2014</td>\n",
       "      <td>3.73</td>\n",
       "    </tr>\n",
       "    <tr>\n",
       "      <th>22</th>\n",
       "      <td>\"Humpty the train on a fruits ride\"[47]</td>\n",
       "      <td>Kiddiestv Hindi - Nursery Rhymes &amp; Kids Songs</td>\n",
       "      <td>January 26, 2018</td>\n",
       "      <td>3.73</td>\n",
       "    </tr>\n",
       "    <tr>\n",
       "      <th>23</th>\n",
       "      <td>\"Shree Hanuman Chalisa\"[48]</td>\n",
       "      <td>T-Series Bhakti Sagar</td>\n",
       "      <td>May 10, 2011</td>\n",
       "      <td>3.69</td>\n",
       "    </tr>\n",
       "    <tr>\n",
       "      <th>24</th>\n",
       "      <td>\"Dark Horse\"[49]</td>\n",
       "      <td>Katy Perry</td>\n",
       "      <td>February 20, 2014</td>\n",
       "      <td>3.67</td>\n",
       "    </tr>\n",
       "    <tr>\n",
       "      <th>25</th>\n",
       "      <td>\"Perfect\"[50]</td>\n",
       "      <td>Ed Sheeran</td>\n",
       "      <td>November 9, 2017</td>\n",
       "      <td>3.67</td>\n",
       "    </tr>\n",
       "    <tr>\n",
       "      <th>26</th>\n",
       "      <td>\"Let Her Go\"[51]</td>\n",
       "      <td>Passenger</td>\n",
       "      <td>July 25, 2012</td>\n",
       "      <td>3.61</td>\n",
       "    </tr>\n",
       "    <tr>\n",
       "      <th>27</th>\n",
       "      <td>\"Faded\"[52]</td>\n",
       "      <td>Alan Walker</td>\n",
       "      <td>December 3, 2015</td>\n",
       "      <td>3.59</td>\n",
       "    </tr>\n",
       "    <tr>\n",
       "      <th>28</th>\n",
       "      <td>\"Girls Like You\"[53]</td>\n",
       "      <td>Maroon 5</td>\n",
       "      <td>May 31, 2018</td>\n",
       "      <td>3.56</td>\n",
       "    </tr>\n",
       "    <tr>\n",
       "      <th>29</th>\n",
       "      <td>\"Lean On\"[54]</td>\n",
       "      <td>Major Lazer Official</td>\n",
       "      <td>March 22, 2015</td>\n",
       "      <td>3.55</td>\n",
       "    </tr>\n",
       "  </tbody>\n",
       "</table>\n",
       "</div>"
      ],
      "text/plain": [
       "                                               Name  \\\n",
       "0                             \"Baby Shark Dance\"[6]   \n",
       "1                                    \"Despacito\"[9]   \n",
       "2                        \"Johny Johny Yes Papa\"[17]   \n",
       "3                                   \"Bath Song\"[18]   \n",
       "4                                \"Shape of You\"[19]   \n",
       "5                               \"See You Again\"[22]   \n",
       "6                           \"Wheels on the Bus\"[27]   \n",
       "7                 \"Phonics Song with Two Words\"[28]   \n",
       "8                                 \"Uptown Funk\"[29]   \n",
       "9   \"Learning Colors – Colorful Eggs on a Farm\"[30]   \n",
       "10                              \"Gangnam Style\"[31]   \n",
       "11   \"Masha and the Bear – Recipe for Disaster\"[36]   \n",
       "12                             \"Dame Tu Cosita\"[37]   \n",
       "13                                     \"Axel F\"[38]   \n",
       "14                                      \"Sugar\"[39]   \n",
       "15                             \"Counting Stars\"[40]   \n",
       "16                        \"Baa Baa Black Sheep\"[41]   \n",
       "17                                       \"Roar\"[42]   \n",
       "18                             \"Lakdi Ki Kathi\"[43]   \n",
       "19           \"Waka Waka (This Time for Africa)\"[44]   \n",
       "20                                      \"Sorry\"[45]   \n",
       "21                          \"Thinking Out Loud\"[46]   \n",
       "22          \"Humpty the train on a fruits ride\"[47]   \n",
       "23                      \"Shree Hanuman Chalisa\"[48]   \n",
       "24                                 \"Dark Horse\"[49]   \n",
       "25                                    \"Perfect\"[50]   \n",
       "26                                 \"Let Her Go\"[51]   \n",
       "27                                      \"Faded\"[52]   \n",
       "28                             \"Girls Like You\"[53]   \n",
       "29                                    \"Lean On\"[54]   \n",
       "\n",
       "                                               Artist              Views  \\\n",
       "0         Pinkfong Baby Shark - Kids' Songs & Stories      June 17, 2016   \n",
       "1                                          Luis Fonsi   January 12, 2017   \n",
       "2   LooLoo Kids - Nursery Rhymes and Children's Songs    October 8, 2016   \n",
       "3                          Cocomelon - Nursery Rhymes        May 2, 2018   \n",
       "4                                          Ed Sheeran   January 30, 2017   \n",
       "5                                         Wiz Khalifa      April 6, 2015   \n",
       "6                          Cocomelon - Nursery Rhymes       May 24, 2018   \n",
       "7               ChuChu TV Nursery Rhymes & Kids Songs      March 6, 2014   \n",
       "8                                         Mark Ronson  November 19, 2014   \n",
       "9                                         Miroshka TV  February 27, 2018   \n",
       "10                                                Psy      July 15, 2012   \n",
       "11                                         Get Movies   January 31, 2012   \n",
       "12                                      Ultra Records      April 5, 2018   \n",
       "13                                         Crazy Frog      June 16, 2009   \n",
       "14                                           Maroon 5   January 14, 2015   \n",
       "15                                        OneRepublic       May 31, 2013   \n",
       "16                         Cocomelon - Nursery Rhymes      June 25, 2018   \n",
       "17                                         Katy Perry  September 5, 2013   \n",
       "18                                       Jingle Toons      June 14, 2018   \n",
       "19                                            Shakira       June 4, 2010   \n",
       "20                                      Justin Bieber   October 22, 2015   \n",
       "21                                         Ed Sheeran    October 7, 2014   \n",
       "22      Kiddiestv Hindi - Nursery Rhymes & Kids Songs   January 26, 2018   \n",
       "23                              T-Series Bhakti Sagar       May 10, 2011   \n",
       "24                                         Katy Perry  February 20, 2014   \n",
       "25                                         Ed Sheeran   November 9, 2017   \n",
       "26                                          Passenger      July 25, 2012   \n",
       "27                                        Alan Walker   December 3, 2015   \n",
       "28                                           Maroon 5       May 31, 2018   \n",
       "29                               Major Lazer Official     March 22, 2015   \n",
       "\n",
       "   Upload Date  \n",
       "0        14.09  \n",
       "1         8.38  \n",
       "2         6.87  \n",
       "3         6.62  \n",
       "4         6.20  \n",
       "5         6.17  \n",
       "6         5.88  \n",
       "7         5.70  \n",
       "8         5.15  \n",
       "9         5.07  \n",
       "10        5.05  \n",
       "11        4.58  \n",
       "12        4.55  \n",
       "13        4.34  \n",
       "14        4.00  \n",
       "15        3.97  \n",
       "16        3.96  \n",
       "17        3.96  \n",
       "18        3.91  \n",
       "19        3.85  \n",
       "20        3.77  \n",
       "21        3.73  \n",
       "22        3.73  \n",
       "23        3.69  \n",
       "24        3.67  \n",
       "25        3.67  \n",
       "26        3.61  \n",
       "27        3.59  \n",
       "28        3.56  \n",
       "29        3.55  "
      ]
     },
     "execution_count": 16,
     "metadata": {},
     "output_type": "execute_result"
    }
   ],
   "source": [
    "df"
   ]
  },
  {
   "cell_type": "code",
   "execution_count": null,
   "id": "13103598",
   "metadata": {},
   "outputs": [],
   "source": []
  },
  {
   "cell_type": "markdown",
   "id": "ef724179",
   "metadata": {},
   "source": [
    "## Q2."
   ]
  },
  {
   "cell_type": "code",
   "execution_count": 33,
   "id": "63b458da",
   "metadata": {},
   "outputs": [],
   "source": [
    "driver = webdriver.Chrome()\n"
   ]
  },
  {
   "cell_type": "code",
   "execution_count": 34,
   "id": "edc701b6",
   "metadata": {},
   "outputs": [],
   "source": [
    "driver.get(\"https://www.bcci.tv/.\")"
   ]
  },
  {
   "cell_type": "code",
   "execution_count": 35,
   "id": "3f0c1229",
   "metadata": {},
   "outputs": [],
   "source": [
    "search=driver.find_element(By.XPATH,\"/html/body/header/div[3]/ul/li[1]/button\")\n",
    "search.click()"
   ]
  },
  {
   "cell_type": "code",
   "execution_count": 36,
   "id": "d5eddced",
   "metadata": {},
   "outputs": [],
   "source": [
    "series_tags=[]\n",
    "place_tags=[]\n",
    "date_tags=[]\n",
    "time_tags=[]"
   ]
  },
  {
   "cell_type": "code",
   "execution_count": 38,
   "id": "35eca365",
   "metadata": {},
   "outputs": [],
   "source": [
    "series_title=driver.find_elements(By.XPATH,'//div[@class=\"tags-wrap\"]/span[1]')\n",
    "\n",
    "for i in series_title:\n",
    "    series=i.text\n",
    "    series_tags.append(series)"
   ]
  },
  {
   "cell_type": "code",
   "execution_count": 39,
   "id": "13fee3d0",
   "metadata": {},
   "outputs": [
    {
     "data": {
      "text/plain": [
       "6"
      ]
     },
     "execution_count": 39,
     "metadata": {},
     "output_type": "execute_result"
    }
   ],
   "source": [
    "len((series_tags))"
   ]
  },
  {
   "cell_type": "code",
   "execution_count": 40,
   "id": "54b23031",
   "metadata": {},
   "outputs": [],
   "source": [
    "place_title=driver.find_elements(By.XPATH,'//div[@class=\"match-place ng-scope\"]/span[1]')\n",
    "\n",
    "for i in place_title:\n",
    "    place=i.text\n",
    "    place_tags.append(place)"
   ]
  },
  {
   "cell_type": "code",
   "execution_count": 41,
   "id": "9e9cc588",
   "metadata": {},
   "outputs": [
    {
     "data": {
      "text/plain": [
       "6"
      ]
     },
     "execution_count": 41,
     "metadata": {},
     "output_type": "execute_result"
    }
   ],
   "source": [
    "len((place_tags))"
   ]
  },
  {
   "cell_type": "code",
   "execution_count": 42,
   "id": "ae2ba62d",
   "metadata": {},
   "outputs": [],
   "source": [
    "date_title=driver.find_elements(By.XPATH,'//div[@class=\"match-date-info\"]/div[1]')\n",
    "\n",
    "for i in date_title:\n",
    "    date=i.text\n",
    "    date_tags.append(date)"
   ]
  },
  {
   "cell_type": "code",
   "execution_count": 43,
   "id": "f029b4fe",
   "metadata": {},
   "outputs": [
    {
     "data": {
      "text/plain": [
       "6"
      ]
     },
     "execution_count": 43,
     "metadata": {},
     "output_type": "execute_result"
    }
   ],
   "source": [
    "len((date_tags))"
   ]
  },
  {
   "cell_type": "code",
   "execution_count": 44,
   "id": "f1c13884",
   "metadata": {},
   "outputs": [],
   "source": [
    "time_title=driver.find_elements(By.XPATH,'//div[@class=\"match-date-info\"]/div[2]')\n",
    "\n",
    "for i in time_title:\n",
    "    time=i.text\n",
    "    time_tags.append(time)"
   ]
  },
  {
   "cell_type": "code",
   "execution_count": 45,
   "id": "b7f17958",
   "metadata": {},
   "outputs": [
    {
     "data": {
      "text/plain": [
       "6"
      ]
     },
     "execution_count": 45,
     "metadata": {},
     "output_type": "execute_result"
    }
   ],
   "source": [
    "len((date_tags))"
   ]
  },
  {
   "cell_type": "code",
   "execution_count": 46,
   "id": "db92a145",
   "metadata": {},
   "outputs": [],
   "source": [
    "df=pd.DataFrame({\"Series\":series_tags,\"Place\":place_tags,\"Date\":date_tags,\"Time\":time_tags})"
   ]
  },
  {
   "cell_type": "code",
   "execution_count": 47,
   "id": "af95c17f",
   "metadata": {},
   "outputs": [
    {
     "data": {
      "text/html": [
       "<div>\n",
       "<style scoped>\n",
       "    .dataframe tbody tr th:only-of-type {\n",
       "        vertical-align: middle;\n",
       "    }\n",
       "\n",
       "    .dataframe tbody tr th {\n",
       "        vertical-align: top;\n",
       "    }\n",
       "\n",
       "    .dataframe thead th {\n",
       "        text-align: right;\n",
       "    }\n",
       "</style>\n",
       "<table border=\"1\" class=\"dataframe\">\n",
       "  <thead>\n",
       "    <tr style=\"text-align: right;\">\n",
       "      <th></th>\n",
       "      <th>Series</th>\n",
       "      <th>Place</th>\n",
       "      <th>Date</th>\n",
       "      <th>Time</th>\n",
       "    </tr>\n",
       "  </thead>\n",
       "  <tbody>\n",
       "    <tr>\n",
       "      <th>0</th>\n",
       "      <td>5th Test</td>\n",
       "      <td>Himachal Pradesh Cricket Association Stadium,</td>\n",
       "      <td>7 MARCH, 2024</td>\n",
       "      <td>9:30 AM IST</td>\n",
       "    </tr>\n",
       "    <tr>\n",
       "      <th>1</th>\n",
       "      <td>1st T20I</td>\n",
       "      <td>Harare Sports Club,</td>\n",
       "      <td>6 JULY, 2024</td>\n",
       "      <td>8:00 PM IST</td>\n",
       "    </tr>\n",
       "    <tr>\n",
       "      <th>2</th>\n",
       "      <td>2nd T20I</td>\n",
       "      <td>Harare Sports Club,</td>\n",
       "      <td>7 JULY, 2024</td>\n",
       "      <td>8:00 PM IST</td>\n",
       "    </tr>\n",
       "    <tr>\n",
       "      <th>3</th>\n",
       "      <td>3rd T20I</td>\n",
       "      <td>Harare Sports Club,</td>\n",
       "      <td>10 JULY, 2024</td>\n",
       "      <td>8:00 PM IST</td>\n",
       "    </tr>\n",
       "    <tr>\n",
       "      <th>4</th>\n",
       "      <td>4th T20I</td>\n",
       "      <td>Harare Sports Club,</td>\n",
       "      <td>13 JULY, 2024</td>\n",
       "      <td>8:00 PM IST</td>\n",
       "    </tr>\n",
       "    <tr>\n",
       "      <th>5</th>\n",
       "      <td>5th T20I</td>\n",
       "      <td>Harare Sports Club,</td>\n",
       "      <td>14 JULY, 2024</td>\n",
       "      <td>8:00 PM IST</td>\n",
       "    </tr>\n",
       "  </tbody>\n",
       "</table>\n",
       "</div>"
      ],
      "text/plain": [
       "     Series                                          Place           Date  \\\n",
       "0  5th Test  Himachal Pradesh Cricket Association Stadium,  7 MARCH, 2024   \n",
       "1  1st T20I                            Harare Sports Club,   6 JULY, 2024   \n",
       "2  2nd T20I                            Harare Sports Club,   7 JULY, 2024   \n",
       "3  3rd T20I                            Harare Sports Club,  10 JULY, 2024   \n",
       "4  4th T20I                            Harare Sports Club,  13 JULY, 2024   \n",
       "5  5th T20I                            Harare Sports Club,  14 JULY, 2024   \n",
       "\n",
       "          Time  \n",
       "0  9:30 AM IST  \n",
       "1  8:00 PM IST  \n",
       "2  8:00 PM IST  \n",
       "3  8:00 PM IST  \n",
       "4  8:00 PM IST  \n",
       "5  8:00 PM IST  "
      ]
     },
     "execution_count": 47,
     "metadata": {},
     "output_type": "execute_result"
    }
   ],
   "source": [
    "df"
   ]
  },
  {
   "cell_type": "code",
   "execution_count": null,
   "id": "816ee46c",
   "metadata": {},
   "outputs": [],
   "source": []
  },
  {
   "cell_type": "markdown",
   "id": "ebabed73",
   "metadata": {},
   "source": [
    "## Q3."
   ]
  },
  {
   "cell_type": "code",
   "execution_count": 86,
   "id": "d081b1eb",
   "metadata": {},
   "outputs": [],
   "source": [
    "driver = webdriver.Chrome()\n"
   ]
  },
  {
   "cell_type": "code",
   "execution_count": 87,
   "id": "baeb844f",
   "metadata": {},
   "outputs": [],
   "source": [
    "driver.get(\"https://www.statisticstimes.com\")"
   ]
  },
  {
   "cell_type": "code",
   "execution_count": 88,
   "id": "68468d80",
   "metadata": {},
   "outputs": [],
   "source": [
    "search=driver.find_element(By.XPATH,\"/html/body/div[2]/div[1]/div[2]/div[2]/button\")\n",
    "search.click()"
   ]
  },
  {
   "cell_type": "code",
   "execution_count": 78,
   "id": "88bc3da6",
   "metadata": {},
   "outputs": [],
   "source": [
    "rank_tags=[]\n",
    "state_tags=[]\n",
    "gsdp_tags=[]\n",
    "gsdp1_tags=[]\n",
    "share_tags=[]\n",
    "gdp_tags=[]"
   ]
  },
  {
   "cell_type": "code",
   "execution_count": 89,
   "id": "b379a074",
   "metadata": {},
   "outputs": [],
   "source": [
    "product_urls=[]\n",
    "start=0\n",
    "end=1\n",
    "\n",
    "for page in range(start,end):\n",
    "    url=driver.find_elements(By.XPATH,'//div[@class=\"dropdown-content\"]/a[3]')\n",
    "    for i in url:\n",
    "        product_urls.append(i.get_attribute(\"href\"))"
   ]
  },
  {
   "cell_type": "code",
   "execution_count": 90,
   "id": "683c73de",
   "metadata": {},
   "outputs": [
    {
     "data": {
      "text/plain": [
       "2"
      ]
     },
     "execution_count": 90,
     "metadata": {},
     "output_type": "execute_result"
    }
   ],
   "source": [
    "len(product_urls)"
   ]
  },
  {
   "cell_type": "code",
   "execution_count": 94,
   "id": "0cecd72c",
   "metadata": {},
   "outputs": [],
   "source": [
    "for url in product_urls:\n",
    "    driver.get(url)\n",
    "    time.sleep(10)"
   ]
  },
  {
   "cell_type": "code",
   "execution_count": 92,
   "id": "88897fd7",
   "metadata": {},
   "outputs": [],
   "source": [
    "rank_title=driver.find_elements(By.XPATH,'//table[@class=\"display dataTable\"]//tbody//tr/td[1]')\n",
    "\n",
    "for i in rank_title:\n",
    "    rank=i.text\n",
    "    rank_tags.append(rank)"
   ]
  },
  {
   "cell_type": "code",
   "execution_count": 56,
   "id": "d82bca5c",
   "metadata": {},
   "outputs": [],
   "source": [
    "state_title=driver.find_elements(By.XPATH,'//table[@class=\"display dataTable\"]//tbody//tr/td[2]')\n",
    "\n",
    "for i in state_title:\n",
    "    state=i.text\n",
    "    state_tags.append(state)"
   ]
  },
  {
   "cell_type": "code",
   "execution_count": 57,
   "id": "c7fcfac6",
   "metadata": {},
   "outputs": [
    {
     "name": "stdout",
     "output_type": "stream",
     "text": [
      "66\n"
     ]
    }
   ],
   "source": [
    "print(len(state_tags))     "
   ]
  },
  {
   "cell_type": "code",
   "execution_count": 58,
   "id": "e5d0370b",
   "metadata": {},
   "outputs": [],
   "source": [
    "gsdp_title=driver.find_elements(By.XPATH,'//table[@class=\"display dataTable\"]//tbody//tr/td[3]')\n",
    "\n",
    "for i in gsdp_title:\n",
    "    gsdp=i.text\n",
    "    gsdp_tags.append(gsdp)"
   ]
  },
  {
   "cell_type": "code",
   "execution_count": 59,
   "id": "bb8efab9",
   "metadata": {},
   "outputs": [
    {
     "name": "stdout",
     "output_type": "stream",
     "text": [
      "66\n"
     ]
    }
   ],
   "source": [
    "print(len(gsdp_tags))    "
   ]
  },
  {
   "cell_type": "code",
   "execution_count": 67,
   "id": "f52d5fe4",
   "metadata": {},
   "outputs": [],
   "source": [
    "gsdp1_title=driver.find_elements(By.XPATH,'//table[@class=\"display dataTable\"]//tbody//tr/td[4]')\n",
    "\n",
    "for i in gsdp1_title:\n",
    "    gsdp1=i.text\n",
    "    gsdp1_tags.append(gsdp1)"
   ]
  },
  {
   "cell_type": "code",
   "execution_count": 69,
   "id": "e22a3289",
   "metadata": {},
   "outputs": [
    {
     "name": "stdout",
     "output_type": "stream",
     "text": [
      "66\n"
     ]
    }
   ],
   "source": [
    "print(len(gsdp1_tags))    "
   ]
  },
  {
   "cell_type": "code",
   "execution_count": 62,
   "id": "e592e6da",
   "metadata": {},
   "outputs": [],
   "source": [
    "share_title=driver.find_elements(By.XPATH,'//table[@class=\"display dataTable\"]//tbody//tr/td[5]')\n",
    "\n",
    "for i in share_title:\n",
    "    share=i.text\n",
    "    share_tags.append(share)"
   ]
  },
  {
   "cell_type": "code",
   "execution_count": 63,
   "id": "eaf23788",
   "metadata": {},
   "outputs": [
    {
     "name": "stdout",
     "output_type": "stream",
     "text": [
      "66\n"
     ]
    }
   ],
   "source": [
    "print(len(share_tags))    "
   ]
  },
  {
   "cell_type": "code",
   "execution_count": 64,
   "id": "eed81a12",
   "metadata": {},
   "outputs": [],
   "source": [
    "gdp_title=driver.find_elements(By.XPATH,'//table[@class=\"display dataTable\"]//tbody//tr/td[6]')\n",
    "\n",
    "for i in gdp_title:\n",
    "    gdp=i.text\n",
    "    gdp_tags.append(gdp)"
   ]
  },
  {
   "cell_type": "code",
   "execution_count": 65,
   "id": "1e2ede1a",
   "metadata": {},
   "outputs": [
    {
     "name": "stdout",
     "output_type": "stream",
     "text": [
      "66\n"
     ]
    }
   ],
   "source": [
    "print(len(gdp_tags))"
   ]
  },
  {
   "cell_type": "markdown",
   "id": "5a939187",
   "metadata": {},
   "source": [
    "## Q4."
   ]
  },
  {
   "cell_type": "code",
   "execution_count": 111,
   "id": "a9acf79e",
   "metadata": {},
   "outputs": [],
   "source": [
    "driver = webdriver.Chrome()"
   ]
  },
  {
   "cell_type": "code",
   "execution_count": 112,
   "id": "494fe958",
   "metadata": {},
   "outputs": [],
   "source": [
    "driver.get(\"https://github.com\")"
   ]
  },
  {
   "cell_type": "code",
   "execution_count": 135,
   "id": "1539b245",
   "metadata": {},
   "outputs": [],
   "source": [
    "search=driver.find_element(By.XPATH,\"/html/body/div[1]/div[4]/main/div[1]/div[2]/div/div/div[2]/div[2]/a\")\n",
    "search.click()"
   ]
  },
  {
   "cell_type": "code",
   "execution_count": 196,
   "id": "e58be8ab",
   "metadata": {},
   "outputs": [],
   "source": [
    "Repository_title=[]\n",
    "description_tags=[]\n",
    "Contributors_tags=[]\n",
    "Language_tags=[]"
   ]
  },
  {
   "cell_type": "code",
   "execution_count": 137,
   "id": "237581de",
   "metadata": {},
   "outputs": [],
   "source": [
    "product_urls=[]\n",
    "start=0\n",
    "end=1\n",
    "\n",
    "for page in range(start,end):\n",
    "    url=driver.find_elements(By.XPATH,'//div[@class=\"logged-out env-production page-responsive\"]/a[3]')\n",
    "    for i in url:\n",
    "        product_urls.append(i.get_attribute(\"src\"))"
   ]
  },
  {
   "cell_type": "code",
   "execution_count": 138,
   "id": "7b3cd850",
   "metadata": {},
   "outputs": [],
   "source": [
    "product_urls=[]\n",
    "start=0\n",
    "end=1\n",
    "\n",
    "for page in range(start,end):\n",
    "    url=driver.find_elements(By.XPATH,'//div[@class=\"show-on-focus\"]/a[2]')\n",
    "    for i in url:\n",
    "        product_urls.append(i.get_attribute(\"src\"))"
   ]
  },
  {
   "cell_type": "code",
   "execution_count": 158,
   "id": "cf42fe4b",
   "metadata": {},
   "outputs": [],
   "source": [
    "Repository_tags=driver.find_elements(By.XPATH,'//div[@class=\"h3 lh-condensed\"]')\n",
    "\n",
    "for i in Repository_title:\n",
    "    Repository=i.text\n",
    "    Repository_tags.append(Repository)"
   ]
  },
  {
   "cell_type": "code",
   "execution_count": 159,
   "id": "d54f0f72",
   "metadata": {},
   "outputs": [
    {
     "name": "stdout",
     "output_type": "stream",
     "text": [
      "25\n"
     ]
    }
   ],
   "source": [
    "print(len(Repository_tags))"
   ]
  },
  {
   "cell_type": "code",
   "execution_count": 160,
   "id": "ab32f386",
   "metadata": {},
   "outputs": [],
   "source": [
    "df=pd.DataFrame({\"repository\":Repository_tags})"
   ]
  },
  {
   "cell_type": "code",
   "execution_count": 161,
   "id": "83cfc68a",
   "metadata": {},
   "outputs": [
    {
     "data": {
      "text/html": [
       "<div>\n",
       "<style scoped>\n",
       "    .dataframe tbody tr th:only-of-type {\n",
       "        vertical-align: middle;\n",
       "    }\n",
       "\n",
       "    .dataframe tbody tr th {\n",
       "        vertical-align: top;\n",
       "    }\n",
       "\n",
       "    .dataframe thead th {\n",
       "        text-align: right;\n",
       "    }\n",
       "</style>\n",
       "<table border=\"1\" class=\"dataframe\">\n",
       "  <thead>\n",
       "    <tr style=\"text-align: right;\">\n",
       "      <th></th>\n",
       "      <th>repository</th>\n",
       "    </tr>\n",
       "  </thead>\n",
       "  <tbody>\n",
       "    <tr>\n",
       "      <th>0</th>\n",
       "      <td>Lissy93 /</td>\n",
       "    </tr>\n",
       "    <tr>\n",
       "      <th>1</th>\n",
       "      <td>pmndrs /</td>\n",
       "    </tr>\n",
       "    <tr>\n",
       "      <th>2</th>\n",
       "      <td>vvbbnn00 /</td>\n",
       "    </tr>\n",
       "    <tr>\n",
       "      <th>3</th>\n",
       "      <td>OpenCodeInterpreter /</td>\n",
       "    </tr>\n",
       "    <tr>\n",
       "      <th>4</th>\n",
       "      <td>movie-web /</td>\n",
       "    </tr>\n",
       "    <tr>\n",
       "      <th>5</th>\n",
       "      <td>toeverything /</td>\n",
       "    </tr>\n",
       "    <tr>\n",
       "      <th>6</th>\n",
       "      <td>joaomdmoura /</td>\n",
       "    </tr>\n",
       "    <tr>\n",
       "      <th>7</th>\n",
       "      <td>public-apis /</td>\n",
       "    </tr>\n",
       "    <tr>\n",
       "      <th>8</th>\n",
       "      <td>tigerbeetle /</td>\n",
       "    </tr>\n",
       "    <tr>\n",
       "      <th>9</th>\n",
       "      <td>taikoxyz /</td>\n",
       "    </tr>\n",
       "    <tr>\n",
       "      <th>10</th>\n",
       "      <td>dockur /</td>\n",
       "    </tr>\n",
       "    <tr>\n",
       "      <th>11</th>\n",
       "      <td>ashishps1 /</td>\n",
       "    </tr>\n",
       "    <tr>\n",
       "      <th>12</th>\n",
       "      <td>SciPhi-AI /</td>\n",
       "    </tr>\n",
       "    <tr>\n",
       "      <th>13</th>\n",
       "      <td>myshell-ai /</td>\n",
       "    </tr>\n",
       "    <tr>\n",
       "      <th>14</th>\n",
       "      <td>krishnaik06 /</td>\n",
       "    </tr>\n",
       "    <tr>\n",
       "      <th>15</th>\n",
       "      <td>ossu /</td>\n",
       "    </tr>\n",
       "    <tr>\n",
       "      <th>16</th>\n",
       "      <td>polyfillpolyfill /</td>\n",
       "    </tr>\n",
       "    <tr>\n",
       "      <th>17</th>\n",
       "      <td>microsoft /</td>\n",
       "    </tr>\n",
       "    <tr>\n",
       "      <th>18</th>\n",
       "      <td>mistralai /</td>\n",
       "    </tr>\n",
       "    <tr>\n",
       "      <th>19</th>\n",
       "      <td>Pawdroid /</td>\n",
       "    </tr>\n",
       "    <tr>\n",
       "      <th>20</th>\n",
       "      <td>WongKinYiu /</td>\n",
       "    </tr>\n",
       "    <tr>\n",
       "      <th>21</th>\n",
       "      <td>jellyfin /</td>\n",
       "    </tr>\n",
       "    <tr>\n",
       "      <th>22</th>\n",
       "      <td>nvm-sh /</td>\n",
       "    </tr>\n",
       "    <tr>\n",
       "      <th>23</th>\n",
       "      <td>pure-admin /</td>\n",
       "    </tr>\n",
       "    <tr>\n",
       "      <th>24</th>\n",
       "      <td>FuelLabs /</td>\n",
       "    </tr>\n",
       "  </tbody>\n",
       "</table>\n",
       "</div>"
      ],
      "text/plain": [
       "               repository\n",
       "0               Lissy93 /\n",
       "1                pmndrs /\n",
       "2              vvbbnn00 /\n",
       "3   OpenCodeInterpreter /\n",
       "4             movie-web /\n",
       "5          toeverything /\n",
       "6           joaomdmoura /\n",
       "7           public-apis /\n",
       "8           tigerbeetle /\n",
       "9              taikoxyz /\n",
       "10               dockur /\n",
       "11            ashishps1 /\n",
       "12            SciPhi-AI /\n",
       "13           myshell-ai /\n",
       "14          krishnaik06 /\n",
       "15                 ossu /\n",
       "16     polyfillpolyfill /\n",
       "17            microsoft /\n",
       "18            mistralai /\n",
       "19             Pawdroid /\n",
       "20           WongKinYiu /\n",
       "21             jellyfin /\n",
       "22               nvm-sh /\n",
       "23           pure-admin /\n",
       "24             FuelLabs /"
      ]
     },
     "execution_count": 161,
     "metadata": {},
     "output_type": "execute_result"
    }
   ],
   "source": [
    "df"
   ]
  },
  {
   "cell_type": "code",
   "execution_count": 179,
   "id": "a3c21d47",
   "metadata": {},
   "outputs": [],
   "source": [
    "Language_title=driver.find_elements(By.XPATH,'//span[@class=\"d-inline-block ml-0 mr-3\"]')\n",
    "\n",
    "for i in Language_title:\n",
    "    Language=i.text\n",
    "    Language_tags.append(Language)"
   ]
  },
  {
   "cell_type": "code",
   "execution_count": 185,
   "id": "6889c9c0",
   "metadata": {},
   "outputs": [],
   "source": [
    "df=pd.DataFrame({\"language\":Language_tags})"
   ]
  },
  {
   "cell_type": "code",
   "execution_count": 186,
   "id": "6a1d60ed",
   "metadata": {},
   "outputs": [
    {
     "data": {
      "text/html": [
       "<div>\n",
       "<style scoped>\n",
       "    .dataframe tbody tr th:only-of-type {\n",
       "        vertical-align: middle;\n",
       "    }\n",
       "\n",
       "    .dataframe tbody tr th {\n",
       "        vertical-align: top;\n",
       "    }\n",
       "\n",
       "    .dataframe thead th {\n",
       "        text-align: right;\n",
       "    }\n",
       "</style>\n",
       "<table border=\"1\" class=\"dataframe\">\n",
       "  <thead>\n",
       "    <tr style=\"text-align: right;\">\n",
       "      <th></th>\n",
       "      <th>language</th>\n",
       "    </tr>\n",
       "  </thead>\n",
       "  <tbody>\n",
       "    <tr>\n",
       "      <th>0</th>\n",
       "      <td>TypeScript</td>\n",
       "    </tr>\n",
       "    <tr>\n",
       "      <th>1</th>\n",
       "      <td>TypeScript</td>\n",
       "    </tr>\n",
       "    <tr>\n",
       "      <th>2</th>\n",
       "      <td>Python</td>\n",
       "    </tr>\n",
       "    <tr>\n",
       "      <th>3</th>\n",
       "      <td>Python</td>\n",
       "    </tr>\n",
       "    <tr>\n",
       "      <th>4</th>\n",
       "      <td>TypeScript</td>\n",
       "    </tr>\n",
       "    <tr>\n",
       "      <th>5</th>\n",
       "      <td>TypeScript</td>\n",
       "    </tr>\n",
       "    <tr>\n",
       "      <th>6</th>\n",
       "      <td>Python</td>\n",
       "    </tr>\n",
       "    <tr>\n",
       "      <th>7</th>\n",
       "      <td>Python</td>\n",
       "    </tr>\n",
       "    <tr>\n",
       "      <th>8</th>\n",
       "      <td>Zig</td>\n",
       "    </tr>\n",
       "    <tr>\n",
       "      <th>9</th>\n",
       "      <td>HTML</td>\n",
       "    </tr>\n",
       "    <tr>\n",
       "      <th>10</th>\n",
       "      <td>Shell</td>\n",
       "    </tr>\n",
       "    <tr>\n",
       "      <th>11</th>\n",
       "      <td>Python</td>\n",
       "    </tr>\n",
       "    <tr>\n",
       "      <th>12</th>\n",
       "      <td>Python</td>\n",
       "    </tr>\n",
       "    <tr>\n",
       "      <th>13</th>\n",
       "      <td>Jupyter Notebook</td>\n",
       "    </tr>\n",
       "    <tr>\n",
       "      <th>14</th>\n",
       "      <td>Jupyter Notebook</td>\n",
       "    </tr>\n",
       "    <tr>\n",
       "      <th>15</th>\n",
       "      <td>Python</td>\n",
       "    </tr>\n",
       "    <tr>\n",
       "      <th>16</th>\n",
       "      <td>C#</td>\n",
       "    </tr>\n",
       "    <tr>\n",
       "      <th>17</th>\n",
       "      <td>Shell</td>\n",
       "    </tr>\n",
       "    <tr>\n",
       "      <th>18</th>\n",
       "      <td>Vue</td>\n",
       "    </tr>\n",
       "    <tr>\n",
       "      <th>19</th>\n",
       "      <td>Rust</td>\n",
       "    </tr>\n",
       "  </tbody>\n",
       "</table>\n",
       "</div>"
      ],
      "text/plain": [
       "            language\n",
       "0         TypeScript\n",
       "1         TypeScript\n",
       "2             Python\n",
       "3             Python\n",
       "4         TypeScript\n",
       "5         TypeScript\n",
       "6             Python\n",
       "7             Python\n",
       "8                Zig\n",
       "9               HTML\n",
       "10             Shell\n",
       "11            Python\n",
       "12            Python\n",
       "13  Jupyter Notebook\n",
       "14  Jupyter Notebook\n",
       "15            Python\n",
       "16                C#\n",
       "17             Shell\n",
       "18               Vue\n",
       "19              Rust"
      ]
     },
     "execution_count": 186,
     "metadata": {},
     "output_type": "execute_result"
    }
   ],
   "source": [
    "df"
   ]
  },
  {
   "cell_type": "code",
   "execution_count": 180,
   "id": "491f49fc",
   "metadata": {},
   "outputs": [],
   "source": [
    "description_title=driver.find_elements(By.XPATH,'//p[@class=\"col-9 color-fg-muted my-1 pr-4\"]')\n",
    "\n",
    "for i in description_title:\n",
    "    description=i.text\n",
    "    description_tags.append(description)"
   ]
  },
  {
   "cell_type": "code",
   "execution_count": 187,
   "id": "0d109d00",
   "metadata": {},
   "outputs": [],
   "source": [
    "df=pd.DataFrame({\"Description\":description_tags})"
   ]
  },
  {
   "cell_type": "code",
   "execution_count": 188,
   "id": "6f0d2be2",
   "metadata": {},
   "outputs": [
    {
     "data": {
      "text/html": [
       "<div>\n",
       "<style scoped>\n",
       "    .dataframe tbody tr th:only-of-type {\n",
       "        vertical-align: middle;\n",
       "    }\n",
       "\n",
       "    .dataframe tbody tr th {\n",
       "        vertical-align: top;\n",
       "    }\n",
       "\n",
       "    .dataframe thead th {\n",
       "        text-align: right;\n",
       "    }\n",
       "</style>\n",
       "<table border=\"1\" class=\"dataframe\">\n",
       "  <thead>\n",
       "    <tr style=\"text-align: right;\">\n",
       "      <th></th>\n",
       "      <th>Description</th>\n",
       "    </tr>\n",
       "  </thead>\n",
       "  <tbody>\n",
       "    <tr>\n",
       "      <th>0</th>\n",
       "      <td>🕵️‍♂️ All-in-one OSINT tool for analysing any ...</td>\n",
       "    </tr>\n",
       "    <tr>\n",
       "      <th>1</th>\n",
       "      <td>📱 user interfaces for react-three-fiber</td>\n",
       "    </tr>\n",
       "    <tr>\n",
       "      <th>2</th>\n",
       "      <td>该项目可以让你通过订阅的方式使用Cloudflare WARP+，自动获取流量。This p...</td>\n",
       "    </tr>\n",
       "    <tr>\n",
       "      <th>3</th>\n",
       "      <td>A small web app for watching movies and shows ...</td>\n",
       "    </tr>\n",
       "    <tr>\n",
       "      <th>4</th>\n",
       "      <td>There can be more than Notion and Miro. AFFiNE...</td>\n",
       "    </tr>\n",
       "    <tr>\n",
       "      <th>5</th>\n",
       "      <td>Framework for orchestrating role-playing, auto...</td>\n",
       "    </tr>\n",
       "    <tr>\n",
       "      <th>6</th>\n",
       "      <td>A collective list of free APIs</td>\n",
       "    </tr>\n",
       "    <tr>\n",
       "      <th>7</th>\n",
       "      <td>The distributed financial transactions databas...</td>\n",
       "    </tr>\n",
       "    <tr>\n",
       "      <th>8</th>\n",
       "      <td>A decentralized, Ethereum-equivalent ZK-Rollup. 🥁</td>\n",
       "    </tr>\n",
       "    <tr>\n",
       "      <th>9</th>\n",
       "      <td>Windows in a Docker container.</td>\n",
       "    </tr>\n",
       "    <tr>\n",
       "      <th>10</th>\n",
       "      <td>This repository contains System Design resourc...</td>\n",
       "    </tr>\n",
       "    <tr>\n",
       "      <th>11</th>\n",
       "      <td>A framework for rapid development and deployme...</td>\n",
       "    </tr>\n",
       "    <tr>\n",
       "      <th>12</th>\n",
       "      <td>High-quality multi-lingual text-to-speech libr...</td>\n",
       "    </tr>\n",
       "    <tr>\n",
       "      <th>13</th>\n",
       "      <td>🎓 Path to a free self-taught education in Comp...</td>\n",
       "    </tr>\n",
       "    <tr>\n",
       "      <th>14</th>\n",
       "      <td>Automatic polyfill service.</td>\n",
       "    </tr>\n",
       "    <tr>\n",
       "      <th>15</th>\n",
       "      <td>18 Lessons, Get Started Building with Generati...</td>\n",
       "    </tr>\n",
       "    <tr>\n",
       "      <th>16</th>\n",
       "      <td>Reference implementation of Mistral AI 7B v0.1...</td>\n",
       "    </tr>\n",
       "    <tr>\n",
       "      <th>17</th>\n",
       "      <td>🚀 免费订阅地址，🚀 免费节点，🚀 6小时更新一次，共享节点，节点质量高可用，完全免费。免费...</td>\n",
       "    </tr>\n",
       "    <tr>\n",
       "      <th>18</th>\n",
       "      <td>Implementation of paper - YOLOv9: Learning Wha...</td>\n",
       "    </tr>\n",
       "    <tr>\n",
       "      <th>19</th>\n",
       "      <td>The Free Software Media System</td>\n",
       "    </tr>\n",
       "    <tr>\n",
       "      <th>20</th>\n",
       "      <td>Node Version Manager - POSIX-compliant bash sc...</td>\n",
       "    </tr>\n",
       "    <tr>\n",
       "      <th>21</th>\n",
       "      <td>🔥 全面ESM+Vue3+Vite+Element-Plus+TypeScript编写的一款...</td>\n",
       "    </tr>\n",
       "    <tr>\n",
       "      <th>22</th>\n",
       "      <td>🌴 Empowering everyone to build reliable and ef...</td>\n",
       "    </tr>\n",
       "  </tbody>\n",
       "</table>\n",
       "</div>"
      ],
      "text/plain": [
       "                                          Description\n",
       "0   🕵️‍♂️ All-in-one OSINT tool for analysing any ...\n",
       "1             📱 user interfaces for react-three-fiber\n",
       "2   该项目可以让你通过订阅的方式使用Cloudflare WARP+，自动获取流量。This p...\n",
       "3   A small web app for watching movies and shows ...\n",
       "4   There can be more than Notion and Miro. AFFiNE...\n",
       "5   Framework for orchestrating role-playing, auto...\n",
       "6                      A collective list of free APIs\n",
       "7   The distributed financial transactions databas...\n",
       "8   A decentralized, Ethereum-equivalent ZK-Rollup. 🥁\n",
       "9                      Windows in a Docker container.\n",
       "10  This repository contains System Design resourc...\n",
       "11  A framework for rapid development and deployme...\n",
       "12  High-quality multi-lingual text-to-speech libr...\n",
       "13  🎓 Path to a free self-taught education in Comp...\n",
       "14                        Automatic polyfill service.\n",
       "15  18 Lessons, Get Started Building with Generati...\n",
       "16  Reference implementation of Mistral AI 7B v0.1...\n",
       "17  🚀 免费订阅地址，🚀 免费节点，🚀 6小时更新一次，共享节点，节点质量高可用，完全免费。免费...\n",
       "18  Implementation of paper - YOLOv9: Learning Wha...\n",
       "19                     The Free Software Media System\n",
       "20  Node Version Manager - POSIX-compliant bash sc...\n",
       "21  🔥 全面ESM+Vue3+Vite+Element-Plus+TypeScript编写的一款...\n",
       "22  🌴 Empowering everyone to build reliable and ef..."
      ]
     },
     "execution_count": 188,
     "metadata": {},
     "output_type": "execute_result"
    }
   ],
   "source": [
    "df"
   ]
  },
  {
   "cell_type": "code",
   "execution_count": 198,
   "id": "b9f38d85",
   "metadata": {},
   "outputs": [],
   "source": [
    "Contributors_title=driver.find_elements(By.XPATH,'//span[@class=\"d-inline-block mr-3\"]')\n",
    "\n",
    "for i in Contributors_title:\n",
    "    Contributors=i.text\n",
    "    Contributors_tags.append(Contributors)"
   ]
  },
  {
   "cell_type": "code",
   "execution_count": 199,
   "id": "2d068e20",
   "metadata": {},
   "outputs": [
    {
     "name": "stdout",
     "output_type": "stream",
     "text": [
      "25\n"
     ]
    }
   ],
   "source": [
    "print(len(Contributors_tags))"
   ]
  },
  {
   "cell_type": "code",
   "execution_count": null,
   "id": "7284e117",
   "metadata": {},
   "outputs": [],
   "source": []
  },
  {
   "cell_type": "markdown",
   "id": "56676b86",
   "metadata": {},
   "source": [
    "## Q5."
   ]
  },
  {
   "cell_type": "code",
   "execution_count": 73,
   "id": "7d305d5c",
   "metadata": {},
   "outputs": [],
   "source": [
    "driver = webdriver.Chrome()"
   ]
  },
  {
   "cell_type": "code",
   "execution_count": 74,
   "id": "18433b8e",
   "metadata": {},
   "outputs": [],
   "source": [
    "driver.get(\"https://www.billboard.com\")"
   ]
  },
  {
   "cell_type": "code",
   "execution_count": 76,
   "id": "388374c7",
   "metadata": {},
   "outputs": [],
   "source": [
    "search=driver.find_element(By.XPATH,\"/html/body/div[3]/div[9]/div/div/div/ul/li[1]/h3/a\")\n",
    "search.click() "
   ]
  },
  {
   "cell_type": "code",
   "execution_count": 80,
   "id": "f3d9108f",
   "metadata": {},
   "outputs": [],
   "source": [
    "search_x=driver.find_element(By.XPATH,\"/html/body/div[3]/main/div[2]/div[1]/div[1]/div/div/div[1]/div/div[2]/span/a\")\n",
    "search_x.click() "
   ]
  },
  {
   "cell_type": "code",
   "execution_count": 88,
   "id": "a8be2dc2",
   "metadata": {},
   "outputs": [],
   "source": [
    "song_tags=[]\n",
    "artist_tags=[]\n",
    "lastweek_tags =[]\n",
    "PR_tags=[]               \n",
    "weeksOnboard_tags=[]"
   ]
  },
  {
   "cell_type": "code",
   "execution_count": 91,
   "id": "ea47be26",
   "metadata": {},
   "outputs": [],
   "source": [
    "song_title=driver.find_elements(By.XPATH,'//li[@class=\"lrv-u-width-100p\"]//li/h3')\n",
    "\n",
    "for i in song_title:\n",
    "    song=i.text\n",
    "    song_tags.append(song)"
   ]
  },
  {
   "cell_type": "code",
   "execution_count": 94,
   "id": "7f32af78",
   "metadata": {},
   "outputs": [],
   "source": [
    "artist_title=driver.find_elements(By.XPATH,'//li[@class=\"lrv-u-width-100p\"]//ul/li[1]/span')\n",
    "                            \n",
    "for i in artist_title:\n",
    "    artist=i.text\n",
    "    artist_tags.append(artist)                      "
   ]
  },
  {
   "cell_type": "code",
   "execution_count": 96,
   "id": "1a4bb330",
   "metadata": {},
   "outputs": [],
   "source": [
    "lastweek_title=driver.find_elements(By.XPATH,'//li[@class=\"lrv-u-width-100p\"]/ul/li[4]/span')\n",
    "\n",
    "for i in lastweek_title:\n",
    "    lastweek=i.text\n",
    "    lastweek_tags.append(lastweek)"
   ]
  },
  {
   "cell_type": "code",
   "execution_count": 99,
   "id": "eb4d6e7b",
   "metadata": {},
   "outputs": [],
   "source": [
    "PR_title=driver.find_elements(By.XPATH,'//li[@class=\"lrv-u-width-100p\"]/ul/li[5]/span')\n",
    "\n",
    "for i in PR_title:\n",
    "    PR=i.text\n",
    "    PR_tags.append(PR)"
   ]
  },
  {
   "cell_type": "code",
   "execution_count": 104,
   "id": "4fefcc58",
   "metadata": {},
   "outputs": [],
   "source": [
    "weeksOnboard_title=driver.find_elements(By.XPATH,'//li[@class=\"lrv-u-width-100p\"]/ul/li[6]/span')\n",
    "\n",
    "for i in weeksOnboard_title:\n",
    "    weeksOnboard=i.text\n",
    "    weeksOnboard_tags.append(WeeksOnboard)"
   ]
  },
  {
   "cell_type": "code",
   "execution_count": 105,
   "id": "1f5cb6d3",
   "metadata": {},
   "outputs": [
    {
     "name": "stdout",
     "output_type": "stream",
     "text": [
      "100\n"
     ]
    }
   ],
   "source": [
    "print(len(weeksOnboard_tags))"
   ]
  },
  {
   "cell_type": "code",
   "execution_count": 109,
   "id": "865e59ea",
   "metadata": {},
   "outputs": [],
   "source": [
    "df=pd.DataFrame({\"Song_Name\":song_tags,\"Artist_Name\":artist_tags,\"LAST_WEEK\":lastweek_tags,\"Peak_POS\":PR_tags,\"WKS_on_CHART\":weeksOnboard_tags})"
   ]
  },
  {
   "cell_type": "code",
   "execution_count": 110,
   "id": "4b199bf3",
   "metadata": {},
   "outputs": [
    {
     "data": {
      "text/html": [
       "<div>\n",
       "<style scoped>\n",
       "    .dataframe tbody tr th:only-of-type {\n",
       "        vertical-align: middle;\n",
       "    }\n",
       "\n",
       "    .dataframe tbody tr th {\n",
       "        vertical-align: top;\n",
       "    }\n",
       "\n",
       "    .dataframe thead th {\n",
       "        text-align: right;\n",
       "    }\n",
       "</style>\n",
       "<table border=\"1\" class=\"dataframe\">\n",
       "  <thead>\n",
       "    <tr style=\"text-align: right;\">\n",
       "      <th></th>\n",
       "      <th>Song_Name</th>\n",
       "      <th>Artist_Name</th>\n",
       "      <th>LAST_WEEK</th>\n",
       "      <th>Peak_POS</th>\n",
       "      <th>WKS_on_CHART</th>\n",
       "    </tr>\n",
       "  </thead>\n",
       "  <tbody>\n",
       "    <tr>\n",
       "      <th>0</th>\n",
       "      <td>Texas Hold 'Em</td>\n",
       "      <td>Beyonce</td>\n",
       "      <td>2</td>\n",
       "      <td>1</td>\n",
       "      <td>2</td>\n",
       "    </tr>\n",
       "    <tr>\n",
       "      <th>1</th>\n",
       "      <td>Lovin On Me</td>\n",
       "      <td>Jack Harlow</td>\n",
       "      <td>1</td>\n",
       "      <td>1</td>\n",
       "      <td>2</td>\n",
       "    </tr>\n",
       "    <tr>\n",
       "      <th>2</th>\n",
       "      <td>Lose Control</td>\n",
       "      <td>Teddy Swims</td>\n",
       "      <td>5</td>\n",
       "      <td>2</td>\n",
       "      <td>2</td>\n",
       "    </tr>\n",
       "    <tr>\n",
       "      <th>3</th>\n",
       "      <td>Carnival</td>\n",
       "      <td>¥$: Kanye West &amp; Ty Dolla $ign Featuring Rich ...</td>\n",
       "      <td>3</td>\n",
       "      <td>3</td>\n",
       "      <td>2</td>\n",
       "    </tr>\n",
       "    <tr>\n",
       "      <th>4</th>\n",
       "      <td>Beautiful Things</td>\n",
       "      <td>Benson Boone</td>\n",
       "      <td>4</td>\n",
       "      <td>3</td>\n",
       "      <td>2</td>\n",
       "    </tr>\n",
       "    <tr>\n",
       "      <th>...</th>\n",
       "      <td>...</td>\n",
       "      <td>...</td>\n",
       "      <td>...</td>\n",
       "      <td>...</td>\n",
       "      <td>...</td>\n",
       "    </tr>\n",
       "    <tr>\n",
       "      <th>95</th>\n",
       "      <td>Talking</td>\n",
       "      <td>¥$: Kanye West &amp; Ty Dolla $ign Featuring North...</td>\n",
       "      <td>30</td>\n",
       "      <td>30</td>\n",
       "      <td>2</td>\n",
       "    </tr>\n",
       "    <tr>\n",
       "      <th>96</th>\n",
       "      <td>Monaco</td>\n",
       "      <td>Bad Bunny</td>\n",
       "      <td>97</td>\n",
       "      <td>5</td>\n",
       "      <td>2</td>\n",
       "    </tr>\n",
       "    <tr>\n",
       "      <th>97</th>\n",
       "      <td>Where It Ends</td>\n",
       "      <td>Bailey Zimmerman</td>\n",
       "      <td>-</td>\n",
       "      <td>32</td>\n",
       "      <td>2</td>\n",
       "    </tr>\n",
       "    <tr>\n",
       "      <th>98</th>\n",
       "      <td>Wondering Why</td>\n",
       "      <td>The Red Clay Strays</td>\n",
       "      <td>-</td>\n",
       "      <td>71</td>\n",
       "      <td>2</td>\n",
       "    </tr>\n",
       "    <tr>\n",
       "      <th>99</th>\n",
       "      <td>Northern Attitude</td>\n",
       "      <td>Noah Kahan With Hozier</td>\n",
       "      <td>75</td>\n",
       "      <td>37</td>\n",
       "      <td>2</td>\n",
       "    </tr>\n",
       "  </tbody>\n",
       "</table>\n",
       "<p>100 rows × 5 columns</p>\n",
       "</div>"
      ],
      "text/plain": [
       "            Song_Name                                        Artist_Name  \\\n",
       "0      Texas Hold 'Em                                            Beyonce   \n",
       "1         Lovin On Me                                        Jack Harlow   \n",
       "2        Lose Control                                        Teddy Swims   \n",
       "3            Carnival  ¥$: Kanye West & Ty Dolla $ign Featuring Rich ...   \n",
       "4    Beautiful Things                                       Benson Boone   \n",
       "..                ...                                                ...   \n",
       "95            Talking  ¥$: Kanye West & Ty Dolla $ign Featuring North...   \n",
       "96             Monaco                                          Bad Bunny   \n",
       "97      Where It Ends                                   Bailey Zimmerman   \n",
       "98      Wondering Why                                The Red Clay Strays   \n",
       "99  Northern Attitude                             Noah Kahan With Hozier   \n",
       "\n",
       "   LAST_WEEK Peak_POS WKS_on_CHART  \n",
       "0          2        1            2  \n",
       "1          1        1            2  \n",
       "2          5        2            2  \n",
       "3          3        3            2  \n",
       "4          4        3            2  \n",
       "..       ...      ...          ...  \n",
       "95        30       30            2  \n",
       "96        97        5            2  \n",
       "97         -       32            2  \n",
       "98         -       71            2  \n",
       "99        75       37            2  \n",
       "\n",
       "[100 rows x 5 columns]"
      ]
     },
     "execution_count": 110,
     "metadata": {},
     "output_type": "execute_result"
    }
   ],
   "source": [
    "df"
   ]
  },
  {
   "cell_type": "markdown",
   "id": "32007e32",
   "metadata": {},
   "source": [
    "## Q6."
   ]
  },
  {
   "cell_type": "code",
   "execution_count": 109,
   "id": "58ab25df",
   "metadata": {},
   "outputs": [],
   "source": [
    "driver = webdriver.Chrome()"
   ]
  },
  {
   "cell_type": "code",
   "execution_count": 110,
   "id": "40202aa0",
   "metadata": {},
   "outputs": [],
   "source": [
    "driver.get(\" https://www.theguardian.com/news/datablog/2012/aug/09/best-selling-books-all-time-fifty-shades-grey-compare\")"
   ]
  },
  {
   "cell_type": "code",
   "execution_count": 118,
   "id": "9349e3e6",
   "metadata": {},
   "outputs": [],
   "source": [
    "book_tags=[]\n",
    "author_tags=[]\n",
    "volume_tags=[] \n",
    "publisher_tags=[]\n",
    "genre_tags=[]"
   ]
  },
  {
   "cell_type": "code",
   "execution_count": 119,
   "id": "dd410912",
   "metadata": {},
   "outputs": [],
   "source": [
    "book_title=driver.find_elements(By.XPATH,'//tbody//tr/td[1][@class=\"left\"]')\n",
    "\n",
    "for i in book_title:\n",
    "    book=i.text\n",
    "    book_tags.append(book)"
   ]
  },
  {
   "cell_type": "code",
   "execution_count": 120,
   "id": "10b5e03c",
   "metadata": {},
   "outputs": [],
   "source": [
    "author_title=driver.find_elements(By.XPATH,'//tbody//tr/td[2][@class=\"left\"]')\n",
    "\n",
    "for i in author_title:\n",
    "    author=i.text\n",
    "    author_tags.append(author)"
   ]
  },
  {
   "cell_type": "code",
   "execution_count": 121,
   "id": "6e3b1b95",
   "metadata": {},
   "outputs": [],
   "source": [
    "volume_title=driver.find_elements(By.XPATH,'//tbody//tr/td[3][@class=\"left\"]')\n",
    "\n",
    "for i in volume_title:\n",
    "    volume=i.text\n",
    "    volume_tags.append(volume)"
   ]
  },
  {
   "cell_type": "code",
   "execution_count": 122,
   "id": "d22a5517",
   "metadata": {},
   "outputs": [],
   "source": [
    "publisher_title=driver.find_elements(By.XPATH,'//tbody//tr/td[4][@class=\"left\"]')\n",
    "\n",
    "for i in publisher_title:\n",
    "    publisher=i.text\n",
    "    publisher_tags.append(publisher)"
   ]
  },
  {
   "cell_type": "code",
   "execution_count": 123,
   "id": "d75b548e",
   "metadata": {},
   "outputs": [],
   "source": [
    "genre_title=driver.find_elements(By.XPATH,'//tbody//tr/td[5][@class=\"left\"]')\n",
    "\n",
    "for i in genre_title:\n",
    "    genre=i.text\n",
    "    genre_tags.append(genre)"
   ]
  },
  {
   "cell_type": "code",
   "execution_count": 124,
   "id": "8711042c",
   "metadata": {},
   "outputs": [
    {
     "name": "stdout",
     "output_type": "stream",
     "text": [
      "100 100 100 100 100\n"
     ]
    }
   ],
   "source": [
    "print(len(book_tags),len(author_tags),len(volume_tags),len(publisher_tags),len(genre_tags))"
   ]
  },
  {
   "cell_type": "code",
   "execution_count": 127,
   "id": "d72ba0d3",
   "metadata": {},
   "outputs": [],
   "source": [
    "df=pd.DataFrame({\"Book_Name\":book_tags,\"Author_Name\":author_tags,\"Volume_sold\":volume_tags,\"Publisher\":publisher_tags,\"Genre\":genre_tags})"
   ]
  },
  {
   "cell_type": "code",
   "execution_count": 128,
   "id": "df2940db",
   "metadata": {},
   "outputs": [
    {
     "data": {
      "text/html": [
       "<div>\n",
       "<style scoped>\n",
       "    .dataframe tbody tr th:only-of-type {\n",
       "        vertical-align: middle;\n",
       "    }\n",
       "\n",
       "    .dataframe tbody tr th {\n",
       "        vertical-align: top;\n",
       "    }\n",
       "\n",
       "    .dataframe thead th {\n",
       "        text-align: right;\n",
       "    }\n",
       "</style>\n",
       "<table border=\"1\" class=\"dataframe\">\n",
       "  <thead>\n",
       "    <tr style=\"text-align: right;\">\n",
       "      <th></th>\n",
       "      <th>Book_Name</th>\n",
       "      <th>Author_Name</th>\n",
       "      <th>Volume_sold</th>\n",
       "      <th>Publisher</th>\n",
       "      <th>Genre</th>\n",
       "    </tr>\n",
       "  </thead>\n",
       "  <tbody>\n",
       "    <tr>\n",
       "      <th>0</th>\n",
       "      <td>1</td>\n",
       "      <td>Da Vinci Code,The</td>\n",
       "      <td>Brown, Dan</td>\n",
       "      <td>5,094,805</td>\n",
       "      <td>Transworld</td>\n",
       "    </tr>\n",
       "    <tr>\n",
       "      <th>1</th>\n",
       "      <td>2</td>\n",
       "      <td>Harry Potter and the Deathly Hallows</td>\n",
       "      <td>Rowling, J.K.</td>\n",
       "      <td>4,475,152</td>\n",
       "      <td>Bloomsbury</td>\n",
       "    </tr>\n",
       "    <tr>\n",
       "      <th>2</th>\n",
       "      <td>3</td>\n",
       "      <td>Harry Potter and the Philosopher's Stone</td>\n",
       "      <td>Rowling, J.K.</td>\n",
       "      <td>4,200,654</td>\n",
       "      <td>Bloomsbury</td>\n",
       "    </tr>\n",
       "    <tr>\n",
       "      <th>3</th>\n",
       "      <td>4</td>\n",
       "      <td>Harry Potter and the Order of the Phoenix</td>\n",
       "      <td>Rowling, J.K.</td>\n",
       "      <td>4,179,479</td>\n",
       "      <td>Bloomsbury</td>\n",
       "    </tr>\n",
       "    <tr>\n",
       "      <th>4</th>\n",
       "      <td>5</td>\n",
       "      <td>Fifty Shades of Grey</td>\n",
       "      <td>James, E. L.</td>\n",
       "      <td>3,758,936</td>\n",
       "      <td>Random House</td>\n",
       "    </tr>\n",
       "    <tr>\n",
       "      <th>...</th>\n",
       "      <td>...</td>\n",
       "      <td>...</td>\n",
       "      <td>...</td>\n",
       "      <td>...</td>\n",
       "      <td>...</td>\n",
       "    </tr>\n",
       "    <tr>\n",
       "      <th>95</th>\n",
       "      <td>96</td>\n",
       "      <td>Ghost,The</td>\n",
       "      <td>Harris, Robert</td>\n",
       "      <td>807,311</td>\n",
       "      <td>Random House</td>\n",
       "    </tr>\n",
       "    <tr>\n",
       "      <th>96</th>\n",
       "      <td>97</td>\n",
       "      <td>Happy Days with the Naked Chef</td>\n",
       "      <td>Oliver, Jamie</td>\n",
       "      <td>794,201</td>\n",
       "      <td>Penguin</td>\n",
       "    </tr>\n",
       "    <tr>\n",
       "      <th>97</th>\n",
       "      <td>98</td>\n",
       "      <td>Hunger Games,The:Hunger Games Trilogy</td>\n",
       "      <td>Collins, Suzanne</td>\n",
       "      <td>792,187</td>\n",
       "      <td>Scholastic Ltd.</td>\n",
       "    </tr>\n",
       "    <tr>\n",
       "      <th>98</th>\n",
       "      <td>99</td>\n",
       "      <td>Lost Boy,The:A Foster Child's Search for the L...</td>\n",
       "      <td>Pelzer, Dave</td>\n",
       "      <td>791,507</td>\n",
       "      <td>Orion</td>\n",
       "    </tr>\n",
       "    <tr>\n",
       "      <th>99</th>\n",
       "      <td>100</td>\n",
       "      <td>Jamie's Ministry of Food:Anyone Can Learn to C...</td>\n",
       "      <td>Oliver, Jamie</td>\n",
       "      <td>791,095</td>\n",
       "      <td>Penguin</td>\n",
       "    </tr>\n",
       "  </tbody>\n",
       "</table>\n",
       "<p>100 rows × 5 columns</p>\n",
       "</div>"
      ],
      "text/plain": [
       "   Book_Name                                        Author_Name  \\\n",
       "0          1                                  Da Vinci Code,The   \n",
       "1          2               Harry Potter and the Deathly Hallows   \n",
       "2          3           Harry Potter and the Philosopher's Stone   \n",
       "3          4          Harry Potter and the Order of the Phoenix   \n",
       "4          5                               Fifty Shades of Grey   \n",
       "..       ...                                                ...   \n",
       "95        96                                          Ghost,The   \n",
       "96        97                     Happy Days with the Naked Chef   \n",
       "97        98              Hunger Games,The:Hunger Games Trilogy   \n",
       "98        99  Lost Boy,The:A Foster Child's Search for the L...   \n",
       "99       100  Jamie's Ministry of Food:Anyone Can Learn to C...   \n",
       "\n",
       "         Volume_sold  Publisher            Genre  \n",
       "0         Brown, Dan  5,094,805       Transworld  \n",
       "1      Rowling, J.K.  4,475,152       Bloomsbury  \n",
       "2      Rowling, J.K.  4,200,654       Bloomsbury  \n",
       "3      Rowling, J.K.  4,179,479       Bloomsbury  \n",
       "4       James, E. L.  3,758,936     Random House  \n",
       "..               ...        ...              ...  \n",
       "95    Harris, Robert    807,311     Random House  \n",
       "96     Oliver, Jamie    794,201          Penguin  \n",
       "97  Collins, Suzanne    792,187  Scholastic Ltd.  \n",
       "98      Pelzer, Dave    791,507            Orion  \n",
       "99     Oliver, Jamie    791,095          Penguin  \n",
       "\n",
       "[100 rows x 5 columns]"
      ]
     },
     "execution_count": 128,
     "metadata": {},
     "output_type": "execute_result"
    }
   ],
   "source": [
    "df"
   ]
  },
  {
   "cell_type": "code",
   "execution_count": null,
   "id": "e5f42c72",
   "metadata": {},
   "outputs": [],
   "source": []
  },
  {
   "cell_type": "markdown",
   "id": "62dad6fe",
   "metadata": {},
   "source": [
    "## Q7."
   ]
  },
  {
   "cell_type": "code",
   "execution_count": 193,
   "id": "59e9537c",
   "metadata": {},
   "outputs": [],
   "source": [
    "driver = webdriver.Chrome()"
   ]
  },
  {
   "cell_type": "code",
   "execution_count": 194,
   "id": "8cb3dc47",
   "metadata": {},
   "outputs": [],
   "source": [
    "driver.get(\"https://www.imdb.com/list/ls512407256/\")"
   ]
  },
  {
   "cell_type": "code",
   "execution_count": 195,
   "id": "0de3f7cd",
   "metadata": {},
   "outputs": [],
   "source": [
    "name_tags=[]\n",
    "year_tags=[] \n",
    "genre_tags=[]\n",
    "runtime_tags=[]\n",
    "ratings_tags=[] \n",
    "votes_tags=[]"
   ]
  },
  {
   "cell_type": "code",
   "execution_count": 196,
   "id": "618723bd",
   "metadata": {},
   "outputs": [],
   "source": [
    "name_title=driver.find_elements(By.XPATH,'//div[@class=\"lister-item mode-detail\"]//h3/a')\n",
    "\n",
    "for i in name_title:\n",
    "    name=i.text\n",
    "    name_tags.append(name)"
   ]
  },
  {
   "cell_type": "code",
   "execution_count": 197,
   "id": "6a774cc9",
   "metadata": {},
   "outputs": [
    {
     "name": "stdout",
     "output_type": "stream",
     "text": [
      "100\n"
     ]
    }
   ],
   "source": [
    "print(len(name_tags))"
   ]
  },
  {
   "cell_type": "code",
   "execution_count": 198,
   "id": "62ba4a4c",
   "metadata": {},
   "outputs": [],
   "source": [
    "year_title=driver.find_elements(By.XPATH,'//span[@class=\"lister-item-year text-muted unbold\"]')\n",
    "\n",
    "for i in year_title:\n",
    "    year=i.text\n",
    "    year_tags.append(year)"
   ]
  },
  {
   "cell_type": "code",
   "execution_count": 199,
   "id": "8fd1017c",
   "metadata": {},
   "outputs": [
    {
     "name": "stdout",
     "output_type": "stream",
     "text": [
      "100\n"
     ]
    }
   ],
   "source": [
    "print(len(year_tags))"
   ]
  },
  {
   "cell_type": "code",
   "execution_count": 200,
   "id": "96ea1c08",
   "metadata": {},
   "outputs": [],
   "source": [
    "genre_title=driver.find_elements(By.XPATH,'//span[@class=\"genre\"]')\n",
    "\n",
    "for i in genre_title:\n",
    "    genre=i.text\n",
    "    genre_tags.append(genre)                   "
   ]
  },
  {
   "cell_type": "code",
   "execution_count": 201,
   "id": "595ab90c",
   "metadata": {},
   "outputs": [
    {
     "name": "stdout",
     "output_type": "stream",
     "text": [
      "100\n"
     ]
    }
   ],
   "source": [
    "print(len(genre_tags))"
   ]
  },
  {
   "cell_type": "code",
   "execution_count": 202,
   "id": "605cc03f",
   "metadata": {},
   "outputs": [],
   "source": [
    "runtime_title=driver.find_elements(By.XPATH,'//span[@class=\"runtime\"]')\n",
    "\n",
    "for i in runtime_title:\n",
    "    runtime=i.text\n",
    "    runtime_tags.append(book)"
   ]
  },
  {
   "cell_type": "code",
   "execution_count": 204,
   "id": "c268438a",
   "metadata": {},
   "outputs": [
    {
     "name": "stdout",
     "output_type": "stream",
     "text": [
      "100\n"
     ]
    }
   ],
   "source": [
    "print(len(runtime_tags))"
   ]
  },
  {
   "cell_type": "code",
   "execution_count": 205,
   "id": "91ca41d3",
   "metadata": {},
   "outputs": [],
   "source": [
    "ratings_title=driver.find_elements(By.XPATH,'//div[@class=\"ipl-rating-star small\"]')\n",
    "\n",
    "for i in ratings_title:\n",
    "    ratings=i.text\n",
    "    ratings_tags.append(ratings)"
   ]
  },
  {
   "cell_type": "code",
   "execution_count": 206,
   "id": "0b91291a",
   "metadata": {},
   "outputs": [
    {
     "name": "stdout",
     "output_type": "stream",
     "text": [
      "100\n"
     ]
    }
   ],
   "source": [
    "print(len(ratings_tags))"
   ]
  },
  {
   "cell_type": "code",
   "execution_count": 207,
   "id": "023ffea6",
   "metadata": {},
   "outputs": [],
   "source": [
    "votes_title=driver.find_elements(By.XPATH,'//span[@name=\"nv\"]')\n",
    "\n",
    "for i in votes_title:\n",
    "    votes=i.text\n",
    "    votes_tags.append(votes)"
   ]
  },
  {
   "cell_type": "code",
   "execution_count": 208,
   "id": "f72d368e",
   "metadata": {},
   "outputs": [
    {
     "name": "stdout",
     "output_type": "stream",
     "text": [
      "100\n"
     ]
    }
   ],
   "source": [
    "print(len(votes_tags))"
   ]
  },
  {
   "cell_type": "code",
   "execution_count": 209,
   "id": "10463eb5",
   "metadata": {},
   "outputs": [],
   "source": [
    "df=pd.DataFrame({\"Name\":name_tags,\"Year_Span\":year_tags,\"Genre\":genre_tags,\"Runtime\":runtime_tags,\"Ratings\":ratings_tags,\"Votes\":votes_tags})"
   ]
  },
  {
   "cell_type": "code",
   "execution_count": 210,
   "id": "2b9f6cf0",
   "metadata": {},
   "outputs": [
    {
     "data": {
      "text/html": [
       "<div>\n",
       "<style scoped>\n",
       "    .dataframe tbody tr th:only-of-type {\n",
       "        vertical-align: middle;\n",
       "    }\n",
       "\n",
       "    .dataframe tbody tr th {\n",
       "        vertical-align: top;\n",
       "    }\n",
       "\n",
       "    .dataframe thead th {\n",
       "        text-align: right;\n",
       "    }\n",
       "</style>\n",
       "<table border=\"1\" class=\"dataframe\">\n",
       "  <thead>\n",
       "    <tr style=\"text-align: right;\">\n",
       "      <th></th>\n",
       "      <th>Name</th>\n",
       "      <th>Year_Span</th>\n",
       "      <th>Genre</th>\n",
       "      <th>Runtime</th>\n",
       "      <th>Ratings</th>\n",
       "      <th>Votes</th>\n",
       "    </tr>\n",
       "  </thead>\n",
       "  <tbody>\n",
       "    <tr>\n",
       "      <th>0</th>\n",
       "      <td>Game of Thrones</td>\n",
       "      <td>(2011–2019)</td>\n",
       "      <td>Action, Adventure, Drama</td>\n",
       "      <td>100</td>\n",
       "      <td>9.2</td>\n",
       "      <td>2,261,826</td>\n",
       "    </tr>\n",
       "    <tr>\n",
       "      <th>1</th>\n",
       "      <td>Stranger Things</td>\n",
       "      <td>(2016–2025)</td>\n",
       "      <td>Drama, Fantasy, Horror</td>\n",
       "      <td>100</td>\n",
       "      <td>8.7</td>\n",
       "      <td>1,319,999</td>\n",
       "    </tr>\n",
       "    <tr>\n",
       "      <th>2</th>\n",
       "      <td>The Walking Dead</td>\n",
       "      <td>(2010–2022)</td>\n",
       "      <td>Drama, Horror, Thriller</td>\n",
       "      <td>100</td>\n",
       "      <td>8.1</td>\n",
       "      <td>1,071,872</td>\n",
       "    </tr>\n",
       "    <tr>\n",
       "      <th>3</th>\n",
       "      <td>13 Reasons Why</td>\n",
       "      <td>(2017–2020)</td>\n",
       "      <td>Drama, Mystery, Thriller</td>\n",
       "      <td>100</td>\n",
       "      <td>7.5</td>\n",
       "      <td>313,415</td>\n",
       "    </tr>\n",
       "    <tr>\n",
       "      <th>4</th>\n",
       "      <td>The 100</td>\n",
       "      <td>(2014–2020)</td>\n",
       "      <td>Drama, Mystery, Sci-Fi</td>\n",
       "      <td>100</td>\n",
       "      <td>7.6</td>\n",
       "      <td>273,324</td>\n",
       "    </tr>\n",
       "    <tr>\n",
       "      <th>...</th>\n",
       "      <td>...</td>\n",
       "      <td>...</td>\n",
       "      <td>...</td>\n",
       "      <td>...</td>\n",
       "      <td>...</td>\n",
       "      <td>...</td>\n",
       "    </tr>\n",
       "    <tr>\n",
       "      <th>95</th>\n",
       "      <td>True Detective</td>\n",
       "      <td>(2014– )</td>\n",
       "      <td>Crime, Drama, Mystery</td>\n",
       "      <td>100</td>\n",
       "      <td>8.9</td>\n",
       "      <td>644,837</td>\n",
       "    </tr>\n",
       "    <tr>\n",
       "      <th>96</th>\n",
       "      <td>Teen Wolf</td>\n",
       "      <td>(2011–2017)</td>\n",
       "      <td>Action, Drama, Fantasy</td>\n",
       "      <td>100</td>\n",
       "      <td>7.7</td>\n",
       "      <td>162,017</td>\n",
       "    </tr>\n",
       "    <tr>\n",
       "      <th>97</th>\n",
       "      <td>The OA</td>\n",
       "      <td>(2016–2019)</td>\n",
       "      <td>Drama, Fantasy, Mystery</td>\n",
       "      <td>100</td>\n",
       "      <td>7.8</td>\n",
       "      <td>114,836</td>\n",
       "    </tr>\n",
       "    <tr>\n",
       "      <th>98</th>\n",
       "      <td>The Simpsons</td>\n",
       "      <td>(1989– )</td>\n",
       "      <td>Animation, Comedy</td>\n",
       "      <td>100</td>\n",
       "      <td>8.7</td>\n",
       "      <td>433,008</td>\n",
       "    </tr>\n",
       "    <tr>\n",
       "      <th>99</th>\n",
       "      <td>Desperate Housewives</td>\n",
       "      <td>(2004–2012)</td>\n",
       "      <td>Comedy, Drama, Mystery</td>\n",
       "      <td>100</td>\n",
       "      <td>7.6</td>\n",
       "      <td>138,649</td>\n",
       "    </tr>\n",
       "  </tbody>\n",
       "</table>\n",
       "<p>100 rows × 6 columns</p>\n",
       "</div>"
      ],
      "text/plain": [
       "                    Name    Year_Span                     Genre Runtime  \\\n",
       "0        Game of Thrones  (2011–2019)  Action, Adventure, Drama     100   \n",
       "1        Stranger Things  (2016–2025)    Drama, Fantasy, Horror     100   \n",
       "2       The Walking Dead  (2010–2022)   Drama, Horror, Thriller     100   \n",
       "3         13 Reasons Why  (2017–2020)  Drama, Mystery, Thriller     100   \n",
       "4                The 100  (2014–2020)    Drama, Mystery, Sci-Fi     100   \n",
       "..                   ...          ...                       ...     ...   \n",
       "95        True Detective     (2014– )     Crime, Drama, Mystery     100   \n",
       "96             Teen Wolf  (2011–2017)    Action, Drama, Fantasy     100   \n",
       "97                The OA  (2016–2019)   Drama, Fantasy, Mystery     100   \n",
       "98          The Simpsons     (1989– )         Animation, Comedy     100   \n",
       "99  Desperate Housewives  (2004–2012)    Comedy, Drama, Mystery     100   \n",
       "\n",
       "   Ratings      Votes  \n",
       "0      9.2  2,261,826  \n",
       "1      8.7  1,319,999  \n",
       "2      8.1  1,071,872  \n",
       "3      7.5    313,415  \n",
       "4      7.6    273,324  \n",
       "..     ...        ...  \n",
       "95     8.9    644,837  \n",
       "96     7.7    162,017  \n",
       "97     7.8    114,836  \n",
       "98     8.7    433,008  \n",
       "99     7.6    138,649  \n",
       "\n",
       "[100 rows x 6 columns]"
      ]
     },
     "execution_count": 210,
     "metadata": {},
     "output_type": "execute_result"
    }
   ],
   "source": [
    "df"
   ]
  },
  {
   "cell_type": "code",
   "execution_count": null,
   "id": "3f59e0d7",
   "metadata": {},
   "outputs": [],
   "source": []
  },
  {
   "cell_type": "markdown",
   "id": "259a51ec",
   "metadata": {},
   "source": [
    "## Q8."
   ]
  },
  {
   "cell_type": "code",
   "execution_count": 33,
   "id": "d29101b6",
   "metadata": {},
   "outputs": [],
   "source": [
    "driver = webdriver.Chrome()"
   ]
  },
  {
   "cell_type": "code",
   "execution_count": 34,
   "id": "af452bf8",
   "metadata": {},
   "outputs": [],
   "source": [
    "driver.get(\"https://archive.ics.uci.edu/\")"
   ]
  },
  {
   "cell_type": "code",
   "execution_count": 35,
   "id": "c6c5c98d",
   "metadata": {},
   "outputs": [],
   "source": [
    "product_urls=[]\n",
    "start=0\n",
    "end=1\n",
    "\n",
    "for page in range(start,end):\n",
    "    url=driver.find_elements(By.XPATH,'//ul[1][@class=\"menu menu-horizontal\"]/li[1]/a[1]')\n",
    "    for i in url:\n",
    "        product_urls.append(i.get_attribute(\"href\"))"
   ]
  },
  {
   "cell_type": "code",
   "execution_count": 36,
   "id": "a2bc718e",
   "metadata": {},
   "outputs": [
    {
     "data": {
      "text/plain": [
       "1"
      ]
     },
     "execution_count": 36,
     "metadata": {},
     "output_type": "execute_result"
    }
   ],
   "source": [
    "len(product_urls)           "
   ]
  },
  {
   "cell_type": "code",
   "execution_count": 37,
   "id": "8b19ec3f",
   "metadata": {},
   "outputs": [],
   "source": [
    "for url in product_urls:\n",
    "    driver.get(url)\n",
    "    time.sleep(10)"
   ]
  },
  {
   "cell_type": "code",
   "execution_count": 38,
   "id": "ac8b44fa",
   "metadata": {},
   "outputs": [],
   "source": [
    "dataset_tags=[]\n",
    "datatype_tags=[] \n",
    "task_tags=[]\n",
    "attribute_tags=[]\n",
    "instances_tags=[]\n",
    "attribute_no_tags=[]\n",
    "year_tags=[]     "
   ]
  },
  {
   "cell_type": "code",
   "execution_count": 39,
   "id": "4642f50e",
   "metadata": {},
   "outputs": [],
   "source": [
    "dataset_title=driver.find_elements(By.XPATH,'//h2[@class=\"truncate text-primary\"]')\n",
    "\n",
    "for i in dataset_title:\n",
    "    dataset=i.text\n",
    "    dataset_tags.append(dataset)                                                        "
   ]
  },
  {
   "cell_type": "code",
   "execution_count": 40,
   "id": "63cc592d",
   "metadata": {},
   "outputs": [],
   "source": [
    "datatype_title=driver.find_elements(By.XPATH,'//div[1][@class= \"my-2 hidden gap-4 md:grid grid-cols-12\"]//div[2]/span')\n",
    "\n",
    "for i in datatype_title:\n",
    "    datatype=i.text\n",
    "    datatype_tags.append(datatype)                                                        "
   ]
  },
  {
   "cell_type": "code",
   "execution_count": 41,
   "id": "5cccbb43",
   "metadata": {},
   "outputs": [],
   "source": [
    "task_title=driver.find_elements(By.XPATH,'//div[1][@class= \"my-2 hidden gap-4 md:grid grid-cols-12\"]//div[1]/span')\n",
    "\n",
    "for i in task_title:\n",
    "    task=i.text\n",
    "    task_tags.append(task)                                                        "
   ]
  },
  {
   "cell_type": "code",
   "execution_count": 53,
   "id": "f04e254c",
   "metadata": {},
   "outputs": [],
   "source": [
    "attribute_title=driver.find_elements(By.XPATH,'//tbody[@class= \"border\"]//tr/td[2]')\n",
    "\n",
    "for i in attribute_title:\n",
    "    attribute=i.text\n",
    "    attribute_tags.append(attribute)                                                        "
   ]
  },
  {
   "cell_type": "code",
   "execution_count": 43,
   "id": "9b690141",
   "metadata": {},
   "outputs": [],
   "source": [
    "year_title=driver.find_elements(By.XPATH,'//tbody[@class= \"border\"]//tr/td[3]')\n",
    "\n",
    "for i in year_title:\n",
    "    year=i.text\n",
    "    year_tags.append(year)                                                        "
   ]
  },
  {
   "cell_type": "code",
   "execution_count": 44,
   "id": "60e068d7",
   "metadata": {},
   "outputs": [],
   "source": [
    "instances_title=driver.find_elements(By.XPATH,'//div[1][@class= \"my-2 hidden gap-4 md:grid grid-cols-12\"]//div[3]/span')\n",
    "\n",
    "for i in instances_title:\n",
    "    instances=i.text\n",
    "    instances_tags.append(instances)                                                        "
   ]
  },
  {
   "cell_type": "code",
   "execution_count": 45,
   "id": "84566945",
   "metadata": {},
   "outputs": [],
   "source": [
    "attribute_no_title=driver.find_elements(By.XPATH,'//div[1][@class= \"my-2 hidden gap-4 md:grid grid-cols-12\"]//div[4]/span')\n",
    "\n",
    "for i in attribute_no_title:\n",
    "    attribute=i.text\n",
    "    attribute_no_tags.append(attribute)                                                        "
   ]
  },
  {
   "cell_type": "code",
   "execution_count": 58,
   "id": "7c00c2e0",
   "metadata": {},
   "outputs": [
    {
     "name": "stdout",
     "output_type": "stream",
     "text": [
      "10 10 10 10 10\n"
     ]
    }
   ],
   "source": [
    "print(len(dataset_tags),len(datatype_tags),len(task_tags),len(instances_tags),len(attribute_no_tags))"
   ]
  },
  {
   "cell_type": "code",
   "execution_count": 59,
   "id": "fe6cea7e",
   "metadata": {},
   "outputs": [],
   "source": [
    "df=pd.DataFrame({\"Dataset\":dataset_tags,\"Datatype\":datatype_tags,\"Task\":task_tags,\"instances\":instances_tags,\"Attributes\":attribute_no_tags})"
   ]
  },
  {
   "cell_type": "code",
   "execution_count": 60,
   "id": "0cf87e5f",
   "metadata": {},
   "outputs": [
    {
     "data": {
      "text/html": [
       "<div>\n",
       "<style scoped>\n",
       "    .dataframe tbody tr th:only-of-type {\n",
       "        vertical-align: middle;\n",
       "    }\n",
       "\n",
       "    .dataframe tbody tr th {\n",
       "        vertical-align: top;\n",
       "    }\n",
       "\n",
       "    .dataframe thead th {\n",
       "        text-align: right;\n",
       "    }\n",
       "</style>\n",
       "<table border=\"1\" class=\"dataframe\">\n",
       "  <thead>\n",
       "    <tr style=\"text-align: right;\">\n",
       "      <th></th>\n",
       "      <th>Dataset</th>\n",
       "      <th>Datatype</th>\n",
       "      <th>Task</th>\n",
       "      <th>instances</th>\n",
       "      <th>Attributes</th>\n",
       "    </tr>\n",
       "  </thead>\n",
       "  <tbody>\n",
       "    <tr>\n",
       "      <th>0</th>\n",
       "      <td>Iris</td>\n",
       "      <td>Tabular</td>\n",
       "      <td>Classification</td>\n",
       "      <td>150 Instances</td>\n",
       "      <td>4 Features</td>\n",
       "    </tr>\n",
       "    <tr>\n",
       "      <th>1</th>\n",
       "      <td>Dry Bean Dataset</td>\n",
       "      <td>Multivariate</td>\n",
       "      <td>Classification</td>\n",
       "      <td>13.61K Instances</td>\n",
       "      <td>16 Features</td>\n",
       "    </tr>\n",
       "    <tr>\n",
       "      <th>2</th>\n",
       "      <td>Heart Disease</td>\n",
       "      <td>Multivariate</td>\n",
       "      <td>Classification</td>\n",
       "      <td>303 Instances</td>\n",
       "      <td>13 Features</td>\n",
       "    </tr>\n",
       "    <tr>\n",
       "      <th>3</th>\n",
       "      <td>Rice (Cammeo and Osmancik)</td>\n",
       "      <td>Multivariate</td>\n",
       "      <td>Classification</td>\n",
       "      <td>3.81K Instances</td>\n",
       "      <td>7 Features</td>\n",
       "    </tr>\n",
       "    <tr>\n",
       "      <th>4</th>\n",
       "      <td>Adult</td>\n",
       "      <td>Multivariate</td>\n",
       "      <td>Classification</td>\n",
       "      <td>48.84K Instances</td>\n",
       "      <td>14 Features</td>\n",
       "    </tr>\n",
       "    <tr>\n",
       "      <th>5</th>\n",
       "      <td>Raisin</td>\n",
       "      <td>Multivariate</td>\n",
       "      <td>Classification</td>\n",
       "      <td>900 Instances</td>\n",
       "      <td>8 Features</td>\n",
       "    </tr>\n",
       "    <tr>\n",
       "      <th>6</th>\n",
       "      <td>Breast Cancer Wisconsin (Diagnostic)</td>\n",
       "      <td>Multivariate</td>\n",
       "      <td>Classification</td>\n",
       "      <td>569 Instances</td>\n",
       "      <td>30 Features</td>\n",
       "    </tr>\n",
       "    <tr>\n",
       "      <th>7</th>\n",
       "      <td>Wine</td>\n",
       "      <td>Tabular</td>\n",
       "      <td>Classification</td>\n",
       "      <td>178 Instances</td>\n",
       "      <td>13 Features</td>\n",
       "    </tr>\n",
       "    <tr>\n",
       "      <th>8</th>\n",
       "      <td>Wine Quality</td>\n",
       "      <td>Multivariate</td>\n",
       "      <td>Classification, Regression</td>\n",
       "      <td>4.9K Instances</td>\n",
       "      <td>12 Features</td>\n",
       "    </tr>\n",
       "    <tr>\n",
       "      <th>9</th>\n",
       "      <td>Diabetes</td>\n",
       "      <td>Multivariate, Time-Series</td>\n",
       "      <td>Classification</td>\n",
       "      <td>1 Instances</td>\n",
       "      <td>20 Features</td>\n",
       "    </tr>\n",
       "  </tbody>\n",
       "</table>\n",
       "</div>"
      ],
      "text/plain": [
       "                                Dataset                   Datatype  \\\n",
       "0                                  Iris                    Tabular   \n",
       "1                      Dry Bean Dataset               Multivariate   \n",
       "2                         Heart Disease               Multivariate   \n",
       "3            Rice (Cammeo and Osmancik)               Multivariate   \n",
       "4                                 Adult               Multivariate   \n",
       "5                                Raisin               Multivariate   \n",
       "6  Breast Cancer Wisconsin (Diagnostic)               Multivariate   \n",
       "7                                  Wine                    Tabular   \n",
       "8                          Wine Quality               Multivariate   \n",
       "9                              Diabetes  Multivariate, Time-Series   \n",
       "\n",
       "                         Task         instances   Attributes  \n",
       "0              Classification     150 Instances   4 Features  \n",
       "1              Classification  13.61K Instances  16 Features  \n",
       "2              Classification     303 Instances  13 Features  \n",
       "3              Classification   3.81K Instances   7 Features  \n",
       "4              Classification  48.84K Instances  14 Features  \n",
       "5              Classification     900 Instances   8 Features  \n",
       "6              Classification     569 Instances  30 Features  \n",
       "7              Classification     178 Instances  13 Features  \n",
       "8  Classification, Regression    4.9K Instances  12 Features  \n",
       "9              Classification       1 Instances  20 Features  "
      ]
     },
     "execution_count": 60,
     "metadata": {},
     "output_type": "execute_result"
    }
   ],
   "source": [
    "df"
   ]
  },
  {
   "cell_type": "code",
   "execution_count": null,
   "id": "d0775629",
   "metadata": {},
   "outputs": [],
   "source": []
  }
 ],
 "metadata": {
  "kernelspec": {
   "display_name": "Python 3 (ipykernel)",
   "language": "python",
   "name": "python3"
  },
  "language_info": {
   "codemirror_mode": {
    "name": "ipython",
    "version": 3
   },
   "file_extension": ".py",
   "mimetype": "text/x-python",
   "name": "python",
   "nbconvert_exporter": "python",
   "pygments_lexer": "ipython3",
   "version": "3.10.9"
  }
 },
 "nbformat": 4,
 "nbformat_minor": 5
}
